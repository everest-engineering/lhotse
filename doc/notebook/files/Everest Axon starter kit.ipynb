{
 "cells": [
  {
   "cell_type": "code",
   "execution_count": null,
   "metadata": {},
   "outputs": [],
   "source": [
    "require 'httpclient'\n",
    "require 'rest-client'\n",
    "require 'json'\n",
    "require 'pp'\n",
    "require 'awesome_print'\n",
    "\n",
    "config = {\n",
    "  scheme: 'http',\n",
    "  hostname: 'localhost',\n",
    "  #hostname: 'docker.for.mac.localhost', # if you are on Docker for Mac\n",
    "  port: 8080\n",
    "  }\n",
    "\n",
    "admin = {\n",
    "  username: 'admin@everest.engineering',\n",
    "  password: 'ac0n3x72'\n",
    "  }\n",
    "\n",
    "org1_user1 = {\n",
    "  username: 'org1user1@example.com',\n",
    "  password: 'justauser'\n",
    "  }\n",
    "\n",
    "self_registered_user1 = {\n",
    "  username: 'selfregistered1@example.com',\n",
    "  password: 'justauser'\n",
    "  }\n"
   ]
  },
  {
   "cell_type": "markdown",
   "metadata": {},
   "source": [
    "# System"
   ]
  },
  {
   "cell_type": "markdown",
   "metadata": {},
   "source": [
    "## Version info\n"
   ]
  },
  {
   "cell_type": "code",
   "execution_count": null,
   "metadata": {},
   "outputs": [],
   "source": [
    "response = RestClient.get \"#{config[:scheme]}://#{config[:hostname]}:#{config[:port]}/api/version\"\n",
    "response.body"
   ]
  },
  {
   "cell_type": "markdown",
   "metadata": {},
   "source": [
    "## Admin login\n"
   ]
  },
  {
   "cell_type": "code",
   "execution_count": null,
   "metadata": {},
   "outputs": [],
   "source": [
    "response = RestClient.post \"#{config[:scheme]}://#{config[:hostname]}:#{config[:port]}/oauth/token?grant_type=password&client_id=web-app-ui&client_secret=replace-me&username=#{admin[:username]}&password=#{admin[:password]}\", {}\n",
    "admin_token = JSON.parse(response.body)[\"access_token\"]"
   ]
  },
  {
   "cell_type": "markdown",
   "metadata": {},
   "source": [
    "## System metric endpoints"
   ]
  },
  {
   "cell_type": "code",
   "execution_count": null,
   "metadata": {},
   "outputs": [],
   "source": [
    "response = RestClient.get(\"#{config[:scheme]}://#{config[:hostname]}:#{config[:port]}/actuator/metrics\",\n",
    "{\n",
    "  content_type: :json,\n",
    "  Authorization: \"Bearer #{admin_token}\"\n",
    "})\n",
    "ap JSON.parse(response.body)[\"names\"].sort"
   ]
  },
  {
   "cell_type": "markdown",
   "metadata": {},
   "source": [
    "## System metrics - HTTP server requests"
   ]
  },
  {
   "cell_type": "code",
   "execution_count": null,
   "metadata": {},
   "outputs": [],
   "source": [
    "response = RestClient.get(\"#{config[:scheme]}://#{config[:hostname]}:#{config[:port]}/actuator/metrics/http.server.requests\",\n",
    "{\n",
    "  content_type: :json,\n",
    "  Authorization: \"Bearer #{admin_token}\"\n",
    "})\n",
    "ap JSON.parse(response.body)"
   ]
  },
  {
   "cell_type": "markdown",
   "metadata": {},
   "source": [
    "## System metrics - Prometheus"
   ]
  },
  {
   "cell_type": "code",
   "execution_count": null,
   "metadata": {
    "scrolled": false
   },
   "outputs": [],
   "source": [
    "response = RestClient.get(\"#{config[:scheme]}://#{config[:hostname]}:#{config[:port]}/actuator/prometheus\",\n",
    "{\n",
    "  content_type: :json,\n",
    "  Authorization: \"Bearer #{admin_token}\"\n",
    "})\n",
    "print(response.body)"
   ]
  },
  {
   "cell_type": "markdown",
   "metadata": {},
   "source": [
    "## Replay status"
   ]
  },
  {
   "cell_type": "code",
   "execution_count": null,
   "metadata": {},
   "outputs": [],
   "source": [
    "response = RestClient.get(\"#{config[:scheme]}://#{config[:hostname]}:#{config[:port]}/actuator/replay\",\n",
    "{\n",
    "  content_type: :json,\n",
    "  Authorization: \"Bearer #{admin_token}\"\n",
    "})\n",
    "ap JSON.parse(response.body)"
   ]
  },
  {
   "cell_type": "markdown",
   "metadata": {},
   "source": [
    "## Trigger replay"
   ]
  },
  {
   "cell_type": "code",
   "execution_count": null,
   "metadata": {},
   "outputs": [],
   "source": [
    "response = RestClient.post(\"#{config[:scheme]}://#{config[:hostname]}:#{config[:port]}/actuator/replay\",\n",
    "{\n",
    "\n",
    "}.to_json,\n",
    "{\n",
    "  content_type: :json,\n",
    "  Authorization: \"Bearer #{admin_token}\"\n",
    "})\n",
    "ap response.body"
   ]
  },
  {
   "cell_type": "markdown",
   "metadata": {},
   "source": [
    "## Health state\n"
   ]
  },
  {
   "cell_type": "code",
   "execution_count": null,
   "metadata": {
    "scrolled": true
   },
   "outputs": [],
   "source": [
    "response = RestClient.get(\"#{config[:scheme]}://#{config[:hostname]}:#{config[:port]}/actuator/health\",\n",
    "{\n",
    "  content_type: :json,\n",
    "  Authorization: \"Bearer #{admin_token}\"\n",
    "})\n",
    "ap JSON.parse(response.body)"
   ]
  },
  {
   "cell_type": "markdown",
   "metadata": {},
   "source": [
    "# Admin"
   ]
  },
  {
   "cell_type": "markdown",
   "metadata": {},
   "source": [
    "## Create organisation\n"
   ]
  },
  {
   "cell_type": "code",
   "execution_count": null,
   "metadata": {},
   "outputs": [],
   "source": [
    "response = RestClient.post(\"#{config[:scheme]}://#{config[:hostname]}:#{config[:port]}/admin/organizations\",\n",
    "{\n",
    "  organizationName: \"ACME Corporation\",\n",
    "  contactEmail: \"org-admin1@example.com\"\n",
    "}.to_json,\n",
    "{\n",
    "  content_type: :json,\n",
    "  Authorization: \"Bearer #{admin_token}\"\n",
    "})\n",
    "orgId = JSON.parse(response.body)"
   ]
  },
  {
   "cell_type": "markdown",
   "metadata": {},
   "source": [
    "## List organisations"
   ]
  },
  {
   "cell_type": "code",
   "execution_count": null,
   "metadata": {},
   "outputs": [],
   "source": [
    "response = RestClient.get(\"#{config[:scheme]}://#{config[:hostname]}:#{config[:port]}/admin/organizations\",\n",
    "{\n",
    "  content_type: :json,\n",
    "  Authorization: \"Bearer #{admin_token}\"\n",
    "})\n",
    "orgList = JSON.parse(response.body)\n",
    "ap orgList"
   ]
  },
  {
   "cell_type": "markdown",
   "metadata": {},
   "source": [
    "## Create organisation user"
   ]
  },
  {
   "cell_type": "code",
   "execution_count": null,
   "metadata": {},
   "outputs": [],
   "source": [
    "response = RestClient.post(\"#{config[:scheme]}://#{config[:hostname]}:#{config[:port]}/api/organizations/#{orgId}/users\",\n",
    "{\n",
    "  username: \"#{org1_user1[:username]}\",\n",
    "  displayName: \"Loyal employee\",\n",
    "  password: \"#{org1_user1[:password]}\"\n",
    "}.to_json,\n",
    "{\n",
    "  content_type: :json,\n",
    "  Authorization: \"Bearer #{admin_token}\"\n",
    "})\n",
    "org1_user1_id = JSON.parse(response.body)"
   ]
  },
  {
   "cell_type": "markdown",
   "metadata": {},
   "source": [
    "## List organisation users"
   ]
  },
  {
   "cell_type": "code",
   "execution_count": null,
   "metadata": {},
   "outputs": [],
   "source": [
    "response = RestClient.get(\"#{config[:scheme]}://#{config[:hostname]}:#{config[:port]}/api/organizations/#{orgId}/users\",\n",
    "{\n",
    "  content_type: :json,\n",
    "  Authorization: \"Bearer #{admin_token}\"\n",
    "})\n",
    "orgUsers = JSON.parse(response.body)\n",
    "ap orgUsers"
   ]
  },
  {
   "cell_type": "markdown",
   "metadata": {},
   "source": [
    "## Delete user and discard encryption key\n"
   ]
  },
  {
   "cell_type": "code",
   "execution_count": null,
   "metadata": {},
   "outputs": [],
   "source": [
    "response = RestClient.post(\"#{config[:scheme]}://#{config[:hostname]}:#{config[:port]}/api/users/#{org1_user1_id}/forget\",\n",
    "{\n",
    "  requestReason: \"GDPR request received\"\n",
    "}.to_json,\n",
    "{\n",
    "  content_type: :json,\n",
    "  Authorization: \"Bearer #{admin_token}\"\n",
    "})\n",
    "response.body"
   ]
  },
  {
   "cell_type": "markdown",
   "metadata": {},
   "source": [
    "# User\n"
   ]
  },
  {
   "cell_type": "markdown",
   "metadata": {},
   "source": [
    "## Login as organisation user"
   ]
  },
  {
   "cell_type": "code",
   "execution_count": null,
   "metadata": {},
   "outputs": [],
   "source": [
    "response = RestClient.post \"#{config[:scheme]}://#{config[:hostname]}:#{config[:port]}/oauth/token?grant_type=password&client_id=web-app-ui&client_secret=replace-me&username=#{org1_user1[:username]}&password=#{org1_user1[:password]}\", {}\n",
    "org1_user1_jwt = JSON.parse(response.body)[\"access_token\"]"
   ]
  },
  {
   "cell_type": "markdown",
   "metadata": {},
   "source": [
    "## Upload profile photo"
   ]
  },
  {
   "cell_type": "code",
   "execution_count": null,
   "metadata": {},
   "outputs": [],
   "source": [
    "response = RestClient.post(\"#{config[:scheme]}://#{config[:hostname]}:#{config[:port]}/api/user/profile-photo\",\n",
    "{\n",
    "  file: File.new(\"./images/profile.jpg\", 'rb'),\n",
    "},\n",
    "{\n",
    "  \n",
    "  Authorization: \"Bearer #{org1_user1_jwt}\"\n",
    "})"
   ]
  },
  {
   "cell_type": "markdown",
   "metadata": {},
   "source": [
    "## Download (stream) profile photo thumbnail"
   ]
  },
  {
   "cell_type": "code",
   "execution_count": null,
   "metadata": {},
   "outputs": [],
   "source": [
    "response = RestClient.get(\"#{config[:scheme]}://#{config[:hostname]}:#{config[:port]}/api/user/profile-photo/thumbnail?width=127&height=128\",\n",
    "{\n",
    "  content_type: :json,\n",
    "  Authorization: \"Bearer #{org1_user1_jwt}\"\n",
    "})\n",
    "File.open(\"/tmp/downloaded-profile-thumbnail.jpg\", \"w\") {|f| f.write(response.to_s) }\n",
    "File.open(\"/tmp/downloaded-profile-thumbnail.jpg\")"
   ]
  },
  {
   "cell_type": "markdown",
   "metadata": {},
   "source": [
    "# Self Registered Organisation Admin"
   ]
  },
  {
   "cell_type": "markdown",
   "metadata": {},
   "source": [
    "## Register a new organisation"
   ]
  },
  {
   "cell_type": "code",
   "execution_count": null,
   "metadata": {
    "scrolled": true
   },
   "outputs": [],
   "source": [
    "response = RestClient.post(\"#{config[:scheme]}://#{config[:hostname]}:#{config[:port]}/api/organizations/register\",\n",
    "{\n",
    "  contactEmail: \"#{self_registered_user1[:username]}\",\n",
    "  contactName: \"Organisation Admin\",\n",
    "  contactPassword: \"#{self_registered_user1[:password]}\",\n",
    "  organizationName: \"Super ACME Company\"\n",
    "}.to_json,\n",
    "{\n",
    "  content_type: :json,\n",
    "})\n",
    "registeredOrgId = JSON.parse(response.body)[\"newOrganizationId\"]\n",
    "registeredUserId = JSON.parse(response.body)[\"newUserId\"]"
   ]
  },
  {
   "cell_type": "markdown",
   "metadata": {},
   "source": [
    "## Confirm registration\n",
    "(See the log output for confirmation code)"
   ]
  },
  {
   "cell_type": "code",
   "execution_count": null,
   "metadata": {},
   "outputs": [],
   "source": [
    "confirmationCode = \"paste your confirmation code from the terminal output here\"\n",
    "response = RestClient.get(\"#{config[:scheme]}://#{config[:hostname]}:#{config[:port]}/api/organizations/#{registeredOrgId}/register/#{confirmationCode}\",\n",
    "{\n",
    "  content_type: :json,\n",
    "})"
   ]
  },
  {
   "cell_type": "markdown",
   "metadata": {},
   "source": [
    "## Log in as admin of organisation"
   ]
  },
  {
   "cell_type": "code",
   "execution_count": null,
   "metadata": {},
   "outputs": [],
   "source": [
    "response = RestClient.post \"#{config[:scheme]}://#{config[:hostname]}:#{config[:port]}/oauth/token?grant_type=password&client_id=web-app-ui&client_secret=replace-me&username=#{self_registered_user1[:username]}&password=#{self_registered_user1[:password]}\", {}\n",
    "self_registered_user1_jwt = JSON.parse(response.body)[\"access_token\"]"
   ]
  },
  {
   "cell_type": "code",
   "execution_count": null,
   "metadata": {},
   "outputs": [],
   "source": []
  }
 ],
 "metadata": {
  "kernelspec": {
   "display_name": "Ruby 2.6.2",
   "language": "ruby",
   "name": "ruby"
  },
  "language_info": {
   "file_extension": ".rb",
   "mimetype": "application/x-ruby",
   "name": "ruby",
   "version": "2.6.2"
  }
 },
 "nbformat": 4,
 "nbformat_minor": 2
}
