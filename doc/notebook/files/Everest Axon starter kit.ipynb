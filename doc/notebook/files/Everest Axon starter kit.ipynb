{
 "cells": [
  {
   "cell_type": "code",
   "execution_count": null,
   "metadata": {},
   "outputs": [],
   "source": [
    "require 'httpclient'\n",
    "require 'rest-client'\n",
    "require 'json'\n",
    "require 'pp'\n",
    "require 'awesome_print'\n",
    "\n",
    "config = {\n",
    "  scheme: 'http',\n",
    "  hostname: 'localhost',\n",
    "  #hostname: 'docker.for.mac.localhost', # if you are on Docker for Mac\n",
    "  port: 8080\n",
    "  }\n",
    "\n",
    "admin = {\n",
    "  username: 'admin@everest.engineering',\n",
    "  password: 'ac0n3x72'\n",
    "  }\n",
    "\n",
    "org1_user1 = {\n",
    "  username: 'org1user1@acme.org',\n",
    "  password: 'justauser'\n",
    "  }\n"
   ]
  },
  {
   "cell_type": "markdown",
   "metadata": {},
   "source": [
    "# System"
   ]
  },
  {
   "cell_type": "markdown",
   "metadata": {},
   "source": [
    "## Version info\n"
   ]
  },
  {
   "cell_type": "code",
   "execution_count": null,
   "metadata": {},
   "outputs": [],
   "source": [
    "response = RestClient.get \"#{config[:scheme]}://#{config[:hostname]}:#{config[:port]}/api/version\"\n",
    "response.body"
   ]
  },
  {
   "cell_type": "markdown",
   "metadata": {},
   "source": [
    "## Admin login\n"
   ]
  },
  {
   "cell_type": "code",
   "execution_count": null,
   "metadata": {},
   "outputs": [],
   "source": [
    "response = RestClient.post \"#{config[:scheme]}://#{config[:hostname]}:#{config[:port]}/oauth/token?grant_type=password&client_id=web-app-ui&username=#{admin[:username]}&password=#{admin[:password]}\", {}\n",
    "admin_token = JSON.parse(response.body)[\"access_token\"]"
   ]
  },
  {
   "cell_type": "markdown",
   "metadata": {},
   "source": [
    "## System metric endpoints"
   ]
  },
  {
   "cell_type": "code",
   "execution_count": null,
   "metadata": {},
   "outputs": [],
   "source": [
    "response = RestClient.get(\"#{config[:scheme]}://#{config[:hostname]}:#{config[:port]}/actuator/metrics\",\n",
    "{\n",
    "  content_type: :json,\n",
    "  Authorization: \"Bearer #{admin_token}\"\n",
    "})\n",
    "ap JSON.parse(response.body)[\"names\"].sort"
   ]
  },
  {
   "cell_type": "markdown",
   "metadata": {},
   "source": [
    "## System metrics - HTTP server requests"
   ]
  },
  {
   "cell_type": "code",
   "execution_count": null,
   "metadata": {},
   "outputs": [],
   "source": [
    "response = RestClient.get(\"#{config[:scheme]}://#{config[:hostname]}:#{config[:port]}/actuator/metrics/http.server.requests\",\n",
    "{\n",
    "  content_type: :json,\n",
    "  Authorization: \"Bearer #{admin_token}\"\n",
    "})\n",
    "ap JSON.parse(response.body)"
   ]
  },
  {
   "cell_type": "markdown",
   "metadata": {},
   "source": [
    "## System metrics - Prometheus"
   ]
  },
  {
   "cell_type": "code",
   "execution_count": null,
   "metadata": {},
   "outputs": [],
   "source": [
    "response = RestClient.get(\"#{config[:scheme]}://#{config[:hostname]}:#{config[:port]}/actuator/prometheus\",\n",
    "{\n",
    "  content_type: :json,\n",
    "  Authorization: \"Bearer #{admin_token}\"\n",
    "})\n",
    "print(response.body)"
   ]
  },
  {
   "cell_type": "markdown",
   "metadata": {},
   "source": [
    "## Replay status"
   ]
  },
  {
   "cell_type": "code",
   "execution_count": null,
   "metadata": {},
   "outputs": [],
   "source": [
    "response = RestClient.get(\"#{config[:scheme]}://#{config[:hostname]}:#{config[:port]}/actuator/replay\",\n",
    "{\n",
    "  content_type: :json,\n",
    "  Authorization: \"Bearer #{admin_token}\"\n",
    "})\n",
    "JSON.parse(response.body)"
   ]
  },
  {
   "cell_type": "markdown",
   "metadata": {},
   "source": [
    "## Trigger replay"
   ]
  },
  {
   "cell_type": "code",
   "execution_count": null,
   "metadata": {},
   "outputs": [],
   "source": [
    "response = RestClient.post(\"#{config[:scheme]}://#{config[:hostname]}:#{config[:port]}/actuator/replay\",\n",
    "{\n",
    "\n",
    "}.to_json,\n",
    "{\n",
    "  content_type: :json,\n",
    "  Authorization: \"Bearer #{admin_token}\"\n",
    "})\n",
    "response.body"
   ]
  },
  {
   "cell_type": "markdown",
   "metadata": {},
   "source": [
    "# Admin"
   ]
  },
  {
   "cell_type": "markdown",
   "metadata": {},
   "source": [
    "## Create organisation\n"
   ]
  },
  {
   "cell_type": "code",
   "execution_count": null,
   "metadata": {},
   "outputs": [],
   "source": [
    "response = RestClient.post(\"#{config[:scheme]}://#{config[:hostname]}:#{config[:port]}/api/organizations\",\n",
    "{\n",
    "  organizationName: \"ACME Corporation\"\n",
    "}.to_json,\n",
    "{\n",
    "  content_type: :json,\n",
    "  Authorization: \"Bearer #{admin_token}\"\n",
    "})\n",
    "orgId = JSON.parse(response.body)"
   ]
  },
  {
   "cell_type": "markdown",
   "metadata": {},
   "source": [
    "## List organisations"
   ]
  },
  {
   "cell_type": "code",
   "execution_count": null,
   "metadata": {},
   "outputs": [],
   "source": [
    "response = RestClient.get(\"#{config[:scheme]}://#{config[:hostname]}:#{config[:port]}/api/organizations\",\n",
    "{\n",
    "  content_type: :json,\n",
    "  Authorization: \"Bearer #{admin_token}\"\n",
    "})\n",
    "orgList = JSON.parse(response.body)"
   ]
  },
  {
   "cell_type": "markdown",
   "metadata": {},
   "source": [
    "## Create organisation user"
   ]
  },
  {
   "cell_type": "code",
   "execution_count": null,
   "metadata": {},
   "outputs": [],
   "source": [
    "response = RestClient.post(\"#{config[:scheme]}://#{config[:hostname]}:#{config[:port]}/api/organizations/#{orgId}/users\",\n",
    "{\n",
    "  username: \"#{org1_user1[:username]}\",\n",
    "  displayName: \"Loyal employee\",\n",
    "  password: \"#{org1_user1[:password]}\"\n",
    "}.to_json,\n",
    "{\n",
    "  content_type: :json,\n",
    "  Authorization: \"Bearer #{admin_token}\"\n",
    "})\n",
    "org1_user1_jwt = JSON.parse(response.body)"
   ]
  },
  {
   "cell_type": "markdown",
   "metadata": {},
   "source": [
    "## List organisation users"
   ]
  },
  {
   "cell_type": "code",
   "execution_count": null,
   "metadata": {},
   "outputs": [],
   "source": [
    "response = RestClient.get(\"#{config[:scheme]}://#{config[:hostname]}:#{config[:port]}/api/organizations/#{orgId}/users\",\n",
    "{\n",
    "  content_type: :json,\n",
    "  Authorization: \"Bearer #{admin_token}\"\n",
    "})\n",
    "orgAdmins = JSON.parse(response.body)"
   ]
  },
  {
   "cell_type": "markdown",
   "metadata": {},
   "source": [
    "# User\n"
   ]
  },
  {
   "cell_type": "markdown",
   "metadata": {},
   "source": [
    "## Login as organisation user"
   ]
  },
  {
   "cell_type": "code",
   "execution_count": null,
   "metadata": {},
   "outputs": [],
   "source": [
    "response = RestClient.post \"#{config[:scheme]}://#{config[:hostname]}:#{config[:port]}/oauth/token?grant_type=password&client_id=web-app-ui&username=#{org1_user1[:username]}&password=#{org1_user1[:password]}\", {}\n",
    "org1_user1_jwt = JSON.parse(response.body)[\"access_token\"]"
   ]
  },
  {
   "cell_type": "markdown",
   "metadata": {},
   "source": [
    "## Upload profile photo"
   ]
  },
  {
   "cell_type": "code",
   "execution_count": null,
   "metadata": {},
   "outputs": [],
   "source": [
    "response = RestClient.post(\"#{config[:scheme]}://#{config[:hostname]}:#{config[:port]}/api/user/profile-photo\",\n",
    "{\n",
    "  file: File.new(\"./images/profile.jpg\", 'rb'),\n",
    "},\n",
    "{\n",
    "  \n",
    "  Authorization: \"Bearer #{org1_user1_jwt}\"\n",
    "})"
   ]
  },
  {
   "cell_type": "markdown",
   "metadata": {},
   "source": [
    "## Download (stream) profile photo thumbnail"
   ]
  },
  {
   "cell_type": "code",
   "execution_count": null,
   "metadata": {},
   "outputs": [],
   "source": [
    "response = RestClient.get(\"#{config[:scheme]}://#{config[:hostname]}:#{config[:port]}/api/user/profile-photo/thumbnail?width=127&height=128\",\n",
    "{\n",
    "  content_type: :json,\n",
    "  Authorization: \"Bearer #{org1_user1_jwt}\"\n",
    "})\n",
    "File.open(\"/tmp/downloaded-profile-thumbnail.jpg\", \"w\") {|f| f.write(response.to_s) }\n",
    "File.open(\"/tmp/downloaded-profile-thumbnail.jpg\")"
   ]
  },
  {
   "cell_type": "code",
   "execution_count": null,
   "metadata": {},
   "outputs": [],
   "source": []
  }
 ],
 "metadata": {
  "kernelspec": {
   "display_name": "Ruby 2.6.2",
   "language": "ruby",
   "name": "ruby"
  },
  "language_info": {
   "file_extension": ".rb",
   "mimetype": "application/x-ruby",
   "name": "ruby",
   "version": "2.6.2"
  }
 },
 "nbformat": 4,
 "nbformat_minor": 2
}
