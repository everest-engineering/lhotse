{
 "cells": [
  {
   "cell_type": "markdown",
   "id": "edecc220-7167-448a-9531-ef9d5e32f38c",
   "metadata": {},
   "source": [
    "# Set up"
   ]
  },
  {
   "cell_type": "code",
   "execution_count": null,
   "id": "5f3f1219-5dfc-4d2b-8b47-9b6955cc7fda",
   "metadata": {},
   "outputs": [],
   "source": [
    "import io\n",
    "import pprint\n",
    "import requests\n",
    "import json\n",
    "from datetime import timedelta\n",
    "from datetime import datetime\n",
    "from keycloak import KeycloakAdmin\n",
    "from keycloak import KeycloakOpenID\n",
    "from IPython.display import Image\n",
    "\n",
    "APP_BASE_URL='http://localhost:8080'\n",
    "APP_ADMIN_EMAIL='app-admin@everest.engineering'\n",
    "APP_ADMIN_PASSWORD='ac0n3x72'\n",
    "\n",
    "MONITORING_PASSWORD='ac0n3x72'\n",
    "\n",
    "KEYCLOAK_BASE_URL='http://localhost:8180'\n",
    "KEYCLOAK_ADMIN_EMAIL='admin@everest.engineering'\n",
    "KEYCLOAK_ADMIN_PASSWORD='ac0n3x72'\n",
    "\n",
    "pp = pprint.PrettyPrinter()\n",
    "\n",
    "default_client = KeycloakOpenID(\n",
    "    server_url=f\"{KEYCLOAK_BASE_URL}\",\n",
    "    realm_name='default',\n",
    "    client_id='default-client',\n",
    "    verify=False)\n",
    "\n",
    "monitoring_client = KeycloakOpenID(\n",
    "    server_url=f\"{KEYCLOAK_BASE_URL}\",\n",
    "    realm_name='default',\n",
    "    client_id='monitoring',\n",
    "    client_secret_key=MONITORING_PASSWORD,\n",
    "    verify=False)"
   ]
  },
  {
   "cell_type": "markdown",
   "id": "f8467d23-8af0-4bb4-9e12-fbfe231c59b7",
   "metadata": {},
   "source": [
    "# Create an application admin"
   ]
  },
  {
   "cell_type": "code",
   "execution_count": null,
   "id": "781bbd92-23f2-4a90-9a98-6feb7b3ca468",
   "metadata": {},
   "outputs": [],
   "source": [
    "keycloak_admin = KeycloakAdmin(\n",
    "    server_url=f\"{KEYCLOAK_BASE_URL}/\",\n",
    "    username=KEYCLOAK_ADMIN_EMAIL,\n",
    "    password=KEYCLOAK_ADMIN_PASSWORD,\n",
    "    realm_name='default',\n",
    "    user_realm_name='master',\n",
    "    verify=False)"
   ]
  },
  {
   "cell_type": "code",
   "execution_count": null,
   "id": "2461b9df-803f-4662-92b5-159f8559465d",
   "metadata": {},
   "outputs": [],
   "source": [
    "admin_user_id = keycloak_admin.create_user(\n",
    "    {\n",
    "        \"username\": APP_ADMIN_EMAIL,\n",
    "        \"email\": APP_ADMIN_EMAIL,\n",
    "        \"enabled\": True,\n",
    "        \"attributes\": {\n",
    "            \"displayName\": \"Application admin\"\n",
    "        },\n",
    "        \"credentials\": [{\"value\": APP_ADMIN_PASSWORD, \"type\": \"password\"}]\n",
    "    }\n",
    ")\n",
    "\n",
    "pp.pprint(admin_user_id)"
   ]
  },
  {
   "cell_type": "markdown",
   "id": "39c8b554-f78a-4226-9f6a-d56c56fbe089",
   "metadata": {},
   "source": [
    "Assign admin role"
   ]
  },
  {
   "cell_type": "code",
   "execution_count": null,
   "id": "976e5789-c279-47c2-bd3b-4f58721fbb3c",
   "metadata": {},
   "outputs": [],
   "source": [
    "realm_roles = keycloak_admin.get_realm_roles()\n",
    "admin_role = next(role for role in realm_roles if role['name'] == 'ADMIN')\n",
    "keycloak_admin.assign_realm_roles(user_id=admin_user_id, roles=[admin_role])"
   ]
  },
  {
   "cell_type": "markdown",
   "id": "c02a6620-669c-45d7-a2d9-4ae89c910e94",
   "metadata": {},
   "source": [
    "# User uploads photos"
   ]
  },
  {
   "cell_type": "markdown",
   "id": "658f87d4-359f-4f1c-8de3-a6edd49695e7",
   "metadata": {},
   "source": [
    "## Simulated user self registration for Bob"
   ]
  },
  {
   "cell_type": "code",
   "execution_count": null,
   "id": "62c1ab0f-d773-4589-b64e-10a6601b6cbb",
   "metadata": {},
   "outputs": [],
   "source": [
    "keycloak_admin = KeycloakAdmin(\n",
    "    server_url=f\"{KEYCLOAK_BASE_URL}/\",\n",
    "    username=KEYCLOAK_ADMIN_EMAIL,\n",
    "    password=KEYCLOAK_ADMIN_PASSWORD,\n",
    "    realm_name='default',\n",
    "    user_realm_name='master',\n",
    "    verify=False)"
   ]
  },
  {
   "cell_type": "code",
   "execution_count": null,
   "id": "056efc1f-ad4f-48c2-b1f6-826d8b6af86c",
   "metadata": {},
   "outputs": [],
   "source": [
    "bob_user_id = keycloak_admin.create_user(\n",
    "    {\n",
    "        \"username\": \"bob@example.com\",\n",
    "        \"email\": \"bob@example.com\",        \n",
    "        \"enabled\": True,\n",
    "        \"attributes\": {\n",
    "            \"displayName\": \"Bob Example\" \n",
    "        },\n",
    "        \"credentials\": [{\"value\": \"password-here\", \"type\": \"password\"}]\n",
    "    }\n",
    ")\n",
    "\n",
    "pp.pprint(bob_user_id)"
   ]
  },
  {
   "cell_type": "markdown",
   "id": "a2368ff0-e16d-40f9-b7da-8affde40366a",
   "metadata": {},
   "source": [
    "## Bob logs in"
   ]
  },
  {
   "cell_type": "code",
   "execution_count": null,
   "id": "1bf0ad4f-dda8-4604-87cb-eae2e3233860",
   "metadata": {},
   "outputs": [],
   "source": [
    "bob_tokens = default_client.token('bob@example.com', 'password-here')\n",
    "pp.pprint(bob_tokens)"
   ]
  },
  {
   "cell_type": "markdown",
   "id": "6d6f908f-c335-4fa3-a30f-1592e7727504",
   "metadata": {},
   "source": [
    "## Bob uploads some photos"
   ]
  },
  {
   "cell_type": "code",
   "execution_count": null,
   "id": "717db18f-46c3-4425-8a0d-76022b7b3c3f",
   "metadata": {},
   "outputs": [],
   "source": [
    "with open('test_photo_1.png', 'rb') as image:\n",
    "    response = requests.post(f'{APP_BASE_URL}/api/photos',\n",
    "        headers=\n",
    "        {\n",
    "            \"Authorization\": f\"Bearer {bob_tokens['access_token']}\"\n",
    "        },\n",
    "        files= \n",
    "        {\n",
    "            'file': image\n",
    "        }\n",
    "    )\n",
    "    print(response.status_code)"
   ]
  },
  {
   "cell_type": "code",
   "execution_count": null,
   "id": "42f52fe5-4f63-4d0c-825c-5782cdc69494",
   "metadata": {},
   "outputs": [],
   "source": [
    "with open('test_photo_2.png', 'rb') as image:\n",
    "    response = requests.post(f'{APP_BASE_URL}/api/photos',\n",
    "        headers=\n",
    "        {\n",
    "            \"Authorization\": f\"Bearer {bob_tokens['access_token']}\"\n",
    "        },\n",
    "        files= \n",
    "        {\n",
    "            'file': image\n",
    "        }\n",
    "    )\n",
    "    print(response.status_code)"
   ]
  },
  {
   "cell_type": "markdown",
   "id": "fc9d780c-5884-44fa-a787-3147eddedc96",
   "metadata": {},
   "source": [
    "## Bob can download his own photos"
   ]
  },
  {
   "cell_type": "code",
   "execution_count": null,
   "id": "be0e737d-6250-449e-8710-ab93e30383a5",
   "metadata": {},
   "outputs": [],
   "source": [
    "response = requests.get(f'{APP_BASE_URL}/api/photos',\n",
    "    headers=\n",
    "    {\n",
    "        \"Authorization\": f\"Bearer {bob_tokens['access_token']}\"\n",
    "    }\n",
    ").json()\n",
    "bob_photo_ids = [photo['id'] for photo in response]\n",
    "pp.pprint(bob_photo_ids)"
   ]
  },
  {
   "cell_type": "code",
   "execution_count": null,
   "id": "fdb2975d-0596-46ef-9b68-14097162f53d",
   "metadata": {},
   "outputs": [],
   "source": [
    "response = requests.get(f'{APP_BASE_URL}/api/photos/{bob_photo_ids[0]}',\n",
    "    headers=\n",
    "    {\n",
    "        \"Authorization\": f\"Bearer {bob_tokens['access_token']}\"\n",
    "    }\n",
    ")\n",
    "print(response.status_code)\n",
    "Image(data=response.content)"
   ]
  },
  {
   "cell_type": "markdown",
   "id": "e9882e70-0946-416e-b44b-8b39eaff0aef",
   "metadata": {
    "tags": []
   },
   "source": [
    "### Including dynamically generated thumbnails"
   ]
  },
  {
   "cell_type": "code",
   "execution_count": null,
   "id": "0e3c0962-3a9f-41a2-9e4c-3458579e4afd",
   "metadata": {},
   "outputs": [],
   "source": [
    "response = requests.get(f'{APP_BASE_URL}/api/photos/{bob_photo_ids[1]}/thumbnail?width=100&height=100',\n",
    "    headers=\n",
    "    {\n",
    "        \"Authorization\": f\"Bearer {bob_tokens['access_token']}\"\n",
    "    }\n",
    ")\n",
    "print(response.status_code)\n",
    "Image(data=response.content)"
   ]
  },
  {
   "cell_type": "markdown",
   "id": "84c296d9-ee04-4d0f-a578-7a5f043729e1",
   "metadata": {},
   "source": [
    "# Application admin sets up competitions"
   ]
  },
  {
   "cell_type": "markdown",
   "id": "e0f36133-ec80-467f-b923-fd188a7a2849",
   "metadata": {},
   "source": [
    "## Application admin login"
   ]
  },
  {
   "cell_type": "code",
   "execution_count": null,
   "id": "87ec4184-d6db-43e8-9bf0-73cf4b0a859d",
   "metadata": {},
   "outputs": [],
   "source": [
    "admin_tokens = default_client.token(APP_ADMIN_EMAIL, APP_ADMIN_PASSWORD)\n",
    "pp.pprint(admin_tokens)"
   ]
  },
  {
   "cell_type": "markdown",
   "id": "2c0146ca-047e-47b8-9a87-a6e056e43614",
   "metadata": {},
   "source": [
    "## Create a competition"
   ]
  },
  {
   "cell_type": "code",
   "execution_count": null,
   "id": "fa2d9d0c-81f2-452d-aa12-be9427158ac9",
   "metadata": {},
   "outputs": [],
   "source": [
    "response = requests.post(\n",
    "    f'{APP_BASE_URL}/api/competitions', \n",
    "    headers=\n",
    "    {\n",
    "        \"Authorization\": f\"Bearer {admin_tokens['access_token']}\"\n",
    "    },\n",
    "    json={\n",
    "        \"description\": \"Best holiday happy snaps\",\n",
    "        \"submissionsOpenTimestamp\": datetime.now().strftime(\"%Y-%m-%dT%H:%M:%SZ\"),\n",
    "        \"submissionsCloseTimestamp\": (datetime.now() + timedelta(minutes=5)).strftime(\"%Y-%m-%dT%H:%M:%SZ\"),\n",
    "        \"votingEndsTimestamp\": (datetime.now() + timedelta(minutes=10)).strftime(\"%Y-%m-%dT%H:%M:%SZ\"),\n",
    "        \"maxEntriesPerUser\": 1\n",
    "    }\n",
    ")\n",
    "print(response.status_code)"
   ]
  },
  {
   "cell_type": "markdown",
   "id": "4e64ef7c-9ff4-4930-8739-c7d2ae616396",
   "metadata": {},
   "source": [
    "## Normal users can't create competitions"
   ]
  },
  {
   "cell_type": "code",
   "execution_count": null,
   "id": "41de8597-db1b-4e7f-955d-ea4018f7b874",
   "metadata": {},
   "outputs": [],
   "source": [
    "response = requests.post(\n",
    "    f'{APP_BASE_URL}/api/competitions', \n",
    "    headers=\n",
    "    {\n",
    "        \"Authorization\": f\"Bearer {bob_tokens['access_token']}\"\n",
    "    },\n",
    "    json={\n",
    "        \"description\": \"Bob's awesome competition\",\n",
    "        \"submissionsOpenTimestamp\": datetime.now().strftime(\"%Y-%m-%dT%H:%M:%SZ\"),\n",
    "        \"submissionsCloseTimestamp\": (datetime.now() + timedelta(minutes=5)).strftime(\"%Y-%m-%dT%H:%M:%SZ\"),\n",
    "        \"votingEndsTimestamp\": (datetime.now() + timedelta(minutes=10)).strftime(\"%Y-%m-%dT%H:%M:%SZ\"),\n",
    "        \"maxEntriesPerUser\": 100\n",
    "    }\n",
    ")\n",
    "print(response.status_code)"
   ]
  },
  {
   "cell_type": "markdown",
   "id": "1e02a55b-4503-4d4b-b436-1e3067f2a895",
   "metadata": {},
   "source": [
    "# Bob enters a submission"
   ]
  },
  {
   "cell_type": "markdown",
   "id": "dcd65caa-1f4d-4424-97b3-a3e6ab550f07",
   "metadata": {},
   "source": [
    "Better log in again first"
   ]
  },
  {
   "cell_type": "code",
   "execution_count": null,
   "id": "5c6007b2-df7a-40ea-b200-7f4ab8f91b82",
   "metadata": {},
   "outputs": [],
   "source": [
    "bob_tokens = default_client.token('bob@example.com', 'password-here')"
   ]
  },
  {
   "cell_type": "code",
   "execution_count": null,
   "id": "0d5fafe4-5c72-4379-ba9d-79155dc42fc7",
   "metadata": {},
   "outputs": [],
   "source": [
    "response = requests.get(f'{APP_BASE_URL}/api/competitions',\n",
    "    headers=\n",
    "    {\n",
    "        \"Authorization\": f\"Bearer {bob_tokens['access_token']}\"\n",
    "    }\n",
    ")\n",
    "print(response.status_code)\n",
    "pp.pprint(response.json())\n",
    "competition_to_enter_id = response.json()[0]['id']"
   ]
  },
  {
   "cell_type": "markdown",
   "id": "8629b6ee-f385-481b-8922-ab5725766dad",
   "metadata": {},
   "source": [
    "You can only submit within the submission window up to the maximum number of submissions. "
   ]
  },
  {
   "cell_type": "code",
   "execution_count": null,
   "id": "ab04e857-ec63-4574-893e-8624ec78029f",
   "metadata": {},
   "outputs": [],
   "source": [
    "response = requests.post(f'{APP_BASE_URL}/api/competitions/{competition_to_enter_id}/submission',\n",
    "    headers=\n",
    "    {\n",
    "        \"Authorization\": f\"Bearer {bob_tokens['access_token']}\"\n",
    "    },\n",
    "    json={\n",
    "        \"photoId\": bob_photo_ids[1],\n",
    "        \"submissionNotes\": \"Much wow holiday snap\"\n",
    "    }\n",
    ")\n",
    "\n",
    "print(response.status_code)\n",
    "if response.status_code != 201:\n",
    "    print(response.json()['message'])"
   ]
  },
  {
   "cell_type": "markdown",
   "id": "259a8d3a-8429-4299-a282-4832f5ef2e76",
   "metadata": {},
   "source": [
    "# System info"
   ]
  },
  {
   "cell_type": "markdown",
   "id": "c776c33f-a9e9-4c63-b12c-a79f94ae9c66",
   "metadata": {},
   "source": [
    "## OID configuration"
   ]
  },
  {
   "cell_type": "code",
   "execution_count": null,
   "id": "a25a9359-9114-4d2d-969c-050e23fdc830",
   "metadata": {},
   "outputs": [],
   "source": [
    "pp.pprint(default_client.well_know())"
   ]
  },
  {
   "cell_type": "markdown",
   "id": "6de81717-ec92-4bfd-a7bf-684f5f08af51",
   "metadata": {},
   "source": [
    "## Application version"
   ]
  },
  {
   "cell_type": "code",
   "execution_count": null,
   "id": "d2e9ca05-a83f-4632-8cd7-a79b5f667e12",
   "metadata": {},
   "outputs": [],
   "source": [
    "print(requests.get(f'{APP_BASE_URL}/api/version').text)"
   ]
  },
  {
   "cell_type": "markdown",
   "id": "df293bb3-9bf2-434e-8250-10d2f11d677b",
   "metadata": {},
   "source": [
    "## Monitoring"
   ]
  },
  {
   "cell_type": "code",
   "execution_count": null,
   "id": "a0ebce9b-72d0-4d91-af01-5719e4f267d5",
   "metadata": {},
   "outputs": [],
   "source": [
    "monitoring_tokens = monitoring_client.token(grant_type='client_credentials')\n",
    "pp.pprint(monitoring_tokens)"
   ]
  },
  {
   "cell_type": "code",
   "execution_count": null,
   "id": "c4c56b8f-5600-4f04-9a7d-8d5cf8768da4",
   "metadata": {},
   "outputs": [],
   "source": [
    "public_health = requests.get(f'{APP_BASE_URL}/actuator/health')\n",
    "pp.pprint(public_health.json())"
   ]
  },
  {
   "cell_type": "code",
   "execution_count": null,
   "id": "420afc7e-af32-46e0-b3e0-cc81cd405843",
   "metadata": {},
   "outputs": [],
   "source": [
    "private_health = requests.get(\n",
    "    f'{APP_BASE_URL}/actuator/health', \n",
    "    headers=\n",
    "    {\n",
    "        \"Authorization\": f\"Bearer {monitoring_tokens['access_token']}\"\n",
    "    }\n",
    ")\n",
    "print(private_health.status_code)\n",
    "pp.pprint(private_health.json())"
   ]
  },
  {
   "cell_type": "markdown",
   "id": "2c26a372-c5db-4228-af7d-b30d3e79ef9d",
   "metadata": {},
   "source": [
    "## Available system metrics"
   ]
  },
  {
   "cell_type": "markdown",
   "id": "671d3e38-d23c-4b9d-90a2-fe007e5cb7d7",
   "metadata": {},
   "source": [
    "Most metrics won't show up until later due to lazy loading."
   ]
  },
  {
   "cell_type": "code",
   "execution_count": null,
   "id": "0ff1dc7d-4f91-4a6a-ac87-e0641a476850",
   "metadata": {},
   "outputs": [],
   "source": [
    "metrics = requests.get(\n",
    "    f'{APP_BASE_URL}/actuator/metrics', \n",
    "    headers=\n",
    "    {\n",
    "        \"Authorization\": f\"Bearer {monitoring_tokens['access_token']}\"\n",
    "    }\n",
    ")\n",
    "print(metrics.status_code)\n",
    "pp.pprint(metrics.json()['names'])"
   ]
  },
  {
   "cell_type": "markdown",
   "id": "857b06a2-4077-40c7-a9e4-5961fe0db981",
   "metadata": {},
   "source": [
    "## Detailed metrics"
   ]
  },
  {
   "cell_type": "code",
   "execution_count": null,
   "id": "cdacd8eb-6c9d-43a4-9851-86a50fcf7359",
   "metadata": {},
   "outputs": [],
   "source": [
    "request_metrics = requests.get(\n",
    "    f'{APP_BASE_URL}/actuator/metrics/process.cpu.usage', \n",
    "    headers=\n",
    "    {\n",
    "        \"Authorization\": f\"Bearer {monitoring_tokens['access_token']}\"\n",
    "    }\n",
    ")\n",
    "pp.pprint(request_metrics.json())"
   ]
  },
  {
   "cell_type": "markdown",
   "id": "b0b2e76f-bc12-4136-8b46-eaeed3a727ec",
   "metadata": {},
   "source": [
    "## Prometheus metrics"
   ]
  },
  {
   "cell_type": "markdown",
   "id": "c29dcfc9-cb32-45ac-8c0c-4b149f518bc9",
   "metadata": {},
   "source": [
    "Most metrics won't show up until later due ot lazy loading."
   ]
  },
  {
   "cell_type": "code",
   "execution_count": null,
   "id": "a301bc2b-a326-4be7-bfb1-577909e95055",
   "metadata": {},
   "outputs": [],
   "source": [
    "prometheus_metrics = requests.get(\n",
    "    f'{APP_BASE_URL}/actuator/prometheus', \n",
    "    headers=\n",
    "    {\n",
    "        \"Authorization\": f\"Bearer {monitoring_tokens['access_token']}\"\n",
    "    }\n",
    ")\n",
    "print(prometheus_metrics.status_code)\n",
    "pp.pprint(prometheus_metrics.text)"
   ]
  },
  {
   "cell_type": "markdown",
   "id": "aa7b1096-57fb-47ae-9b03-7e1b4ff30a4e",
   "metadata": {},
   "source": [
    "## Replay status"
   ]
  },
  {
   "cell_type": "code",
   "execution_count": null,
   "id": "268e925f-d027-46e5-af01-f18b5c36fcb7",
   "metadata": {},
   "outputs": [],
   "source": [
    "replay_status = requests.get(\n",
    "    f'{APP_BASE_URL}/actuator/replay', \n",
    "    headers=\n",
    "    {\n",
    "        \"Authorization\": f\"Bearer {admin_tokens['access_token']}\"\n",
    "    }\n",
    ")\n",
    "print(replay_status.status_code)\n",
    "pp.pprint(replay_status.json())"
   ]
  },
  {
   "cell_type": "markdown",
   "id": "70aad4be-5225-47e8-b385-1ece0fa0bb47",
   "metadata": {},
   "source": [
    "## Trigger replay"
   ]
  },
  {
   "cell_type": "markdown",
   "id": "aa97429b-63bc-4703-ba93-f2f450793d0d",
   "metadata": {},
   "source": [
    "Replays when multiple nodes are involved require you to first shut down the tracking event processors so that ownership is released. The node that receives the request to replay will be the one handling it.\n",
    "\n",
    "This can be done via the dashboard or via `axonserver-cli`."
   ]
  },
  {
   "cell_type": "code",
   "execution_count": null,
   "id": "22914956-8e42-4c51-a5d8-4b4c42463588",
   "metadata": {},
   "outputs": [],
   "source": [
    "response = requests.post(\n",
    "    f'{APP_BASE_URL}/actuator/replay', \n",
    "    headers=\n",
    "    {\n",
    "        \"Authorization\": f\"Bearer {admin_tokens['access_token']}\"\n",
    "    },\n",
    "    json={}\n",
    ")\n",
    "# You are expecting a 204 NO-CONTENT response here\n",
    "print(response.status_code)"
   ]
  }
 ],
 "metadata": {
  "kernelspec": {
   "display_name": "Python 3 (ipykernel)",
   "language": "python",
   "name": "python3"
  },
  "language_info": {
   "codemirror_mode": {
    "name": "ipython",
    "version": 3
   },
   "file_extension": ".py",
   "mimetype": "text/x-python",
   "name": "python",
   "nbconvert_exporter": "python",
   "pygments_lexer": "ipython3",
   "version": "3.9.12"
  }
 },
 "nbformat": 4,
 "nbformat_minor": 5
}
