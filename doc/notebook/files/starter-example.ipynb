{
 "cells": [
  {
   "cell_type": "markdown",
   "id": "edecc220-7167-448a-9531-ef9d5e32f38c",
   "metadata": {},
   "source": [
    "# Set up"
   ]
  },
  {
   "cell_type": "code",
   "execution_count": null,
   "id": "5f3f1219-5dfc-4d2b-8b47-9b6955cc7fda",
   "metadata": {},
   "outputs": [],
   "source": [
    "import io\n",
    "import pprint\n",
    "import requests\n",
    "import json\n",
    "from keycloak import KeycloakAdmin\n",
    "from keycloak import KeycloakOpenID\n",
    "from IPython.display import Image\n",
    "\n",
    "APP_BASE_URL='http://localhost:8080'\n",
    "APP_ADMIN_EMAIL='admin@everest.engineering'\n",
    "APP_ADMIN_PASSWORD='ac0n3x72'\n",
    "\n",
    "KEYCLOAK_BASE_URL='http://localhost:8180'\n",
    "KEYCLOAK_ADMIN_EMAIL='admin@everest.engineering'\n",
    "KEYCLOAK_ADMIN_PASSWORD='ac0n3x72'\n",
    "\n",
    "pp = pprint.PrettyPrinter()\n",
    "\n",
    "oid_client = KeycloakOpenID(\n",
    "    server_url=f\"{KEYCLOAK_BASE_URL}/auth/\",\n",
    "    realm_name=\"default\",\n",
    "    client_id=\"default-client\",\n",
    "    verify=False)"
   ]
  },
  {
   "cell_type": "markdown",
   "id": "e0f36133-ec80-467f-b923-fd188a7a2849",
   "metadata": {},
   "source": [
    "## Application admin login"
   ]
  },
  {
   "cell_type": "code",
   "execution_count": null,
   "id": "87ec4184-d6db-43e8-9bf0-73cf4b0a859d",
   "metadata": {},
   "outputs": [],
   "source": [
    "admin_tokens = oid_client.token(APP_ADMIN_EMAIL, APP_ADMIN_PASSWORD)\n",
    "pp.pprint(admin_tokens)"
   ]
  },
  {
   "cell_type": "code",
   "execution_count": null,
   "id": "1858b48f-d3da-4368-a8a8-4bcfe3136ad0",
   "metadata": {},
   "outputs": [],
   "source": [
    "admin_userinfo = oid_client.userinfo(admin_tokens['access_token'])\n",
    "pp.pprint(admin_userinfo)"
   ]
  },
  {
   "cell_type": "markdown",
   "id": "259a8d3a-8429-4299-a282-4832f5ef2e76",
   "metadata": {},
   "source": [
    "# System info"
   ]
  },
  {
   "cell_type": "markdown",
   "id": "c776c33f-a9e9-4c63-b12c-a79f94ae9c66",
   "metadata": {},
   "source": [
    "## OID configuration"
   ]
  },
  {
   "cell_type": "code",
   "execution_count": null,
   "id": "a25a9359-9114-4d2d-969c-050e23fdc830",
   "metadata": {},
   "outputs": [],
   "source": [
    "pp.pprint(oid_client.well_know())"
   ]
  },
  {
   "cell_type": "markdown",
   "id": "6de81717-ec92-4bfd-a7bf-684f5f08af51",
   "metadata": {},
   "source": [
    "## Application version"
   ]
  },
  {
   "cell_type": "code",
   "execution_count": null,
   "id": "d2e9ca05-a83f-4632-8cd7-a79b5f667e12",
   "metadata": {},
   "outputs": [],
   "source": [
    "print(requests.get(f'{APP_BASE_URL}/api/version').text)"
   ]
  },
  {
   "cell_type": "markdown",
   "id": "df293bb3-9bf2-434e-8250-10d2f11d677b",
   "metadata": {},
   "source": [
    "## Health status"
   ]
  },
  {
   "cell_type": "code",
   "execution_count": null,
   "id": "c4c56b8f-5600-4f04-9a7d-8d5cf8768da4",
   "metadata": {},
   "outputs": [],
   "source": [
    "public_health = requests.get(f'{APP_BASE_URL}/actuator/health')\n",
    "pp.pprint(public_health.json())"
   ]
  },
  {
   "cell_type": "code",
   "execution_count": null,
   "id": "420afc7e-af32-46e0-b3e0-cc81cd405843",
   "metadata": {},
   "outputs": [],
   "source": [
    "private_health = requests.get(\n",
    "    f'{APP_BASE_URL}/actuator/health', \n",
    "    headers=\n",
    "    {\n",
    "        \"Authorization\": f\"Bearer {admin_tokens['access_token']}\"\n",
    "    }\n",
    ")\n",
    "print(private_health.status_code)\n",
    "pp.pprint(private_health.json())"
   ]
  },
  {
   "cell_type": "markdown",
   "id": "2c26a372-c5db-4228-af7d-b30d3e79ef9d",
   "metadata": {},
   "source": [
    "## Available system metrics"
   ]
  },
  {
   "cell_type": "markdown",
   "id": "671d3e38-d23c-4b9d-90a2-fe007e5cb7d7",
   "metadata": {},
   "source": [
    "Most metrics won't show up until later due to lazy loading."
   ]
  },
  {
   "cell_type": "code",
   "execution_count": null,
   "id": "0ff1dc7d-4f91-4a6a-ac87-e0641a476850",
   "metadata": {},
   "outputs": [],
   "source": [
    "metrics = requests.get(\n",
    "    f'{APP_BASE_URL}/actuator/metrics', \n",
    "    headers=\n",
    "    {\n",
    "        \"Authorization\": f\"Bearer {admin_tokens['access_token']}\"\n",
    "    }\n",
    ")\n",
    "print(metrics.status_code)\n",
    "pp.pprint(metrics.json()['names'])"
   ]
  },
  {
   "cell_type": "markdown",
   "id": "857b06a2-4077-40c7-a9e4-5961fe0db981",
   "metadata": {},
   "source": [
    "## HTTP server request metrics"
   ]
  },
  {
   "cell_type": "code",
   "execution_count": null,
   "id": "cdacd8eb-6c9d-43a4-9851-86a50fcf7359",
   "metadata": {},
   "outputs": [],
   "source": [
    "request_metrics = requests.get(\n",
    "    f'{APP_BASE_URL}/actuator/metrics/http.server.requests', \n",
    "    headers=\n",
    "    {\n",
    "        \"Authorization\": f\"Bearer {admin_tokens['access_token']}\"\n",
    "    }\n",
    ")\n",
    "print(metrics.status_code)\n",
    "pp.pprint(request_metrics.json())"
   ]
  },
  {
   "cell_type": "markdown",
   "id": "b0b2e76f-bc12-4136-8b46-eaeed3a727ec",
   "metadata": {},
   "source": [
    "## Prometheus metrics"
   ]
  },
  {
   "cell_type": "markdown",
   "id": "c29dcfc9-cb32-45ac-8c0c-4b149f518bc9",
   "metadata": {},
   "source": [
    "Most metrics won't show up until later due ot lazy loading."
   ]
  },
  {
   "cell_type": "code",
   "execution_count": null,
   "id": "a301bc2b-a326-4be7-bfb1-577909e95055",
   "metadata": {},
   "outputs": [],
   "source": [
    "prometheus_metrics = requests.get(\n",
    "    f'{APP_BASE_URL}/actuator/prometheus', \n",
    "    headers=\n",
    "    {\n",
    "        \"Authorization\": f\"Bearer {admin_tokens['access_token']}\"\n",
    "    }\n",
    ")\n",
    "print(prometheus_metrics.status_code)\n",
    "pp.pprint(prometheus_metrics.text)"
   ]
  },
  {
   "cell_type": "markdown",
   "id": "aa7b1096-57fb-47ae-9b03-7e1b4ff30a4e",
   "metadata": {},
   "source": [
    "## Replay status"
   ]
  },
  {
   "cell_type": "code",
   "execution_count": null,
   "id": "268e925f-d027-46e5-af01-f18b5c36fcb7",
   "metadata": {},
   "outputs": [],
   "source": [
    "replay_status = requests.get(\n",
    "    f'{APP_BASE_URL}/actuator/replay', \n",
    "    headers=\n",
    "    {\n",
    "        \"Authorization\": f\"Bearer {admin_tokens['access_token']}\"\n",
    "    }\n",
    ")\n",
    "print(replay_status.status_code)\n",
    "pp.pprint(replay_status.json())"
   ]
  },
  {
   "cell_type": "markdown",
   "id": "70aad4be-5225-47e8-b385-1ece0fa0bb47",
   "metadata": {},
   "source": [
    "## Trigger replay"
   ]
  },
  {
   "cell_type": "markdown",
   "id": "aa97429b-63bc-4703-ba93-f2f450793d0d",
   "metadata": {},
   "source": [
    "Replays when multiple nodes are involved require you to first shut down the tracking event processors so that ownership is released. The node that receives the request to replay will be the one handling it.\n",
    "\n",
    "This can be done via the dashboard or via `axonserver-cli`."
   ]
  },
  {
   "cell_type": "code",
   "execution_count": null,
   "id": "22914956-8e42-4c51-a5d8-4b4c42463588",
   "metadata": {},
   "outputs": [],
   "source": [
    "response = requests.post(\n",
    "    f'{APP_BASE_URL}/actuator/replay', \n",
    "    headers=\n",
    "    {\n",
    "        \"Authorization\": f\"Bearer {admin_tokens['access_token']}\"\n",
    "    },\n",
    "    json={}\n",
    ")\n",
    "# You are expecting a 204 NO-CONTENT response here\n",
    "print(response.status_code)"
   ]
  },
  {
   "cell_type": "markdown",
   "id": "9ce0696b-88c3-480b-b2ca-014122675f6b",
   "metadata": {},
   "source": [
    "# Self registration scenario"
   ]
  },
  {
   "cell_type": "markdown",
   "id": "eec78d47-d4f5-41e8-af56-4fe6c3cc30af",
   "metadata": {},
   "source": [
    "## Simulated user self registration for Bob"
   ]
  },
  {
   "cell_type": "code",
   "execution_count": null,
   "id": "e4f39ed8-385f-415c-a8ff-63719a66e591",
   "metadata": {},
   "outputs": [],
   "source": [
    "keycloak_admin = KeycloakAdmin(\n",
    "    server_url=f\"{KEYCLOAK_BASE_URL}/auth/\",\n",
    "    username=KEYCLOAK_ADMIN_EMAIL,\n",
    "    password=KEYCLOAK_ADMIN_PASSWORD,\n",
    "    realm_name='default',\n",
    "    user_realm_name='master',\n",
    "    verify=False)"
   ]
  },
  {
   "cell_type": "code",
   "execution_count": null,
   "id": "4aefdcb9-9da9-431a-912b-240e9849c8a3",
   "metadata": {},
   "outputs": [],
   "source": [
    "bob_user_id = keycloak_admin.create_user(\n",
    "    {\n",
    "        \"username\": \"bob@example.com\",\n",
    "        \"email\": \"bob@example.com\",        \n",
    "        \"enabled\": True,\n",
    "        \"attributes\": {\n",
    "            \"displayName\": \"Bob Example\" \n",
    "        },\n",
    "        \"credentials\": [{\"value\": \"password-here\", \"type\": \"password\"}]\n",
    "    }\n",
    ")\n",
    "pp.pprint(bob_user_id)"
   ]
  },
  {
   "cell_type": "markdown",
   "id": "1430f1ff-bc6a-4f48-aac5-dcaf5f0c6f01",
   "metadata": {},
   "source": [
    "## Bob's user and organisation does not exist until first use"
   ]
  },
  {
   "cell_type": "code",
   "execution_count": null,
   "id": "87c3654c-c192-4346-a5f2-4141b9774689",
   "metadata": {},
   "outputs": [],
   "source": [
    "response = requests.get(f'{APP_BASE_URL}/api/users',\n",
    "    headers=\n",
    "    {\n",
    "        \"Authorization\": f\"Bearer {admin_tokens['access_token']}\"\n",
    "    }\n",
    ")\n",
    "pp.pprint(response.json())"
   ]
  },
  {
   "cell_type": "code",
   "execution_count": null,
   "id": "cfb3721c-d23e-4bc8-b0f8-b2d4cc863052",
   "metadata": {},
   "outputs": [],
   "source": [
    "response = requests.get(f'{APP_BASE_URL}/admin/organizations',\n",
    "    headers=\n",
    "    {\n",
    "        \"Authorization\": f\"Bearer {admin_tokens['access_token']}\"\n",
    "    }\n",
    ")\n",
    "pp.pprint(response.json())"
   ]
  },
  {
   "cell_type": "markdown",
   "id": "90f38654-7fb1-4c2e-8ba2-514d72765314",
   "metadata": {},
   "source": [
    "## Bob logs in"
   ]
  },
  {
   "cell_type": "code",
   "execution_count": null,
   "id": "03b0b115-49cb-4b4a-a5b9-ad7c11cb9f54",
   "metadata": {
    "tags": []
   },
   "outputs": [],
   "source": [
    "bob_tokens = oid_client.token('bob@example.com', 'password-here')\n",
    "pp.pprint(bob_tokens)"
   ]
  },
  {
   "cell_type": "markdown",
   "id": "575eef8f-68d7-4497-805b-504deed288b7",
   "metadata": {},
   "source": [
    "## Bob retrieves profile details"
   ]
  },
  {
   "cell_type": "markdown",
   "id": "1d3f113d-71dc-4186-a3c8-bd3a956b772d",
   "metadata": {},
   "source": [
    "After this call you can go back up and check - the user and their default organisation should now be available"
   ]
  },
  {
   "cell_type": "code",
   "execution_count": null,
   "id": "765025bd-b53c-4577-a05b-a99493752638",
   "metadata": {},
   "outputs": [],
   "source": [
    "response = requests.get(f'{APP_BASE_URL}/api/user',\n",
    "    headers=\n",
    "    {\n",
    "        \"Authorization\": f\"Bearer {bob_tokens['access_token']}\"\n",
    "    }\n",
    ").json()\n",
    "pp.pprint(response)\n",
    "bob_org_id = response['organizationId']"
   ]
  },
  {
   "cell_type": "markdown",
   "id": "23adb556-163f-4af2-82ac-ca5bb6ffa4b9",
   "metadata": {},
   "source": [
    "## Bob uploads profile photo"
   ]
  },
  {
   "cell_type": "code",
   "execution_count": null,
   "id": "e48e806b-677b-424b-ab77-26a6583f9e93",
   "metadata": {},
   "outputs": [],
   "source": [
    "with open('profile.jpg', 'rb') as image:\n",
    "    response = requests.post(f'{APP_BASE_URL}/api/user/profile-photo',\n",
    "        headers=\n",
    "        {\n",
    "            \"Authorization\": f\"Bearer {bob_tokens['access_token']}\"\n",
    "        },\n",
    "        files= \n",
    "        {\n",
    "            'file': image\n",
    "        }\n",
    "    )\n",
    "    print(response.status_code)"
   ]
  },
  {
   "cell_type": "markdown",
   "id": "e7c856c3-8021-4680-815b-a7d4e71e9118",
   "metadata": {},
   "source": [
    "## Bob downloads profile photo"
   ]
  },
  {
   "cell_type": "code",
   "execution_count": null,
   "id": "2b1ef0ec-9fcf-4218-98b3-6bad12876b16",
   "metadata": {},
   "outputs": [],
   "source": [
    "response = requests.get(f'{APP_BASE_URL}/api/user/profile-photo/thumbnail?width=1024&height=512',\n",
    "    headers=\n",
    "    {\n",
    "        \"Authorization\": f\"Bearer {bob_tokens['access_token']}\"\n",
    "    }\n",
    ")\n",
    "print(response.status_code)\n",
    "Image(data=response.content)"
   ]
  },
  {
   "cell_type": "markdown",
   "id": "00cb26a9-0fc8-4413-a084-b725adee554b",
   "metadata": {},
   "source": [
    "# Bob does stuff"
   ]
  },
  {
   "cell_type": "markdown",
   "id": "ca43287e-6a49-4380-b794-41c625ea92f9",
   "metadata": {},
   "source": [
    "## Bob lists users on his organisation"
   ]
  },
  {
   "cell_type": "code",
   "execution_count": null,
   "id": "d28188ec-b6bc-44a2-8065-56c8f63d9c2e",
   "metadata": {},
   "outputs": [],
   "source": [
    "response = requests.get(f'{APP_BASE_URL}/api/organizations/{bob_org_id}/users',\n",
    "    headers=\n",
    "    {\n",
    "        \"Authorization\": f\"Bearer {bob_tokens['access_token']}\"\n",
    "    }\n",
    ")\n",
    "print(response.status_code)\n",
    "pp.pprint(response.json())"
   ]
  },
  {
   "cell_type": "markdown",
   "id": "bb2905c1-ddee-4e1f-a0c7-60288daa8486",
   "metadata": {
    "tags": []
   },
   "source": [
    "## Bob retrieves information about the organisation"
   ]
  },
  {
   "cell_type": "code",
   "execution_count": null,
   "id": "c28670d5-2172-42db-9ae9-2d0b5306acc0",
   "metadata": {},
   "outputs": [],
   "source": [
    "response = requests.get(f'{APP_BASE_URL}/api/organizations/{bob_org_id}',\n",
    "    headers=\n",
    "    {\n",
    "        \"Authorization\": f\"Bearer {bob_tokens['access_token']}\"\n",
    "    }\n",
    ")\n",
    "print(response.status_code)\n",
    "pp.pprint(response.json())"
   ]
  },
  {
   "cell_type": "markdown",
   "id": "b460a785-e561-4e4b-8c43-c99c8deae8af",
   "metadata": {},
   "source": [
    "## Bob starts listening for organisation updates"
   ]
  },
  {
   "cell_type": "markdown",
   "id": "da216c67-2dd8-4f05-aea5-84bb510cdba6",
   "metadata": {},
   "source": [
    "Content negotiation allows you to subscribe to streaming updates. \n",
    "\n",
    "This isn't easily demonstrated in this notebook. Run the following to generate the `curl` command that lets you subscribe to streaming updates:"
   ]
  },
  {
   "cell_type": "code",
   "execution_count": null,
   "id": "18656b14-9f08-438e-a3f9-f7dcd4789898",
   "metadata": {},
   "outputs": [],
   "source": [
    "print(f\"curl --verbose -H \\\"Accept: application/x-ndjson\\\" -H \\\"Authorization: Bearer {bob_tokens['access_token']}\\\" {APP_BASE_URL}/api/organizations/{bob_org_id}\")"
   ]
  },
  {
   "cell_type": "markdown",
   "id": "dff51d95-e37b-4f62-9519-a2618363ed66",
   "metadata": {},
   "source": [
    "## Bob changes the organisation's website"
   ]
  },
  {
   "cell_type": "code",
   "execution_count": null,
   "id": "4cb4f4de-f6f8-45c0-8552-26082939b457",
   "metadata": {},
   "outputs": [],
   "source": [
    "response = requests.put(f'{APP_BASE_URL}/api/organizations/{bob_org_id}',\n",
    "    headers=\n",
    "    {\n",
    "        \"Authorization\": f\"Bearer {bob_tokens['access_token']}\"\n",
    "    },\n",
    "    json = \n",
    "    {\n",
    "        'websiteUrl': 'https://my.nice.example.com/1'\n",
    "    }\n",
    ")\n",
    "print(response.status_code)"
   ]
  },
  {
   "cell_type": "markdown",
   "id": "b7465a4a-2cee-4960-b7d8-c97005bf87e6",
   "metadata": {},
   "source": [
    "## Bob creates Alice, a new user for the organisation"
   ]
  },
  {
   "cell_type": "markdown",
   "id": "3a836c2c-7d31-45d7-a03c-16b62e4cf2c7",
   "metadata": {},
   "source": [
    "This relies on the realm being configured to require email verification for the new user to be able to log in.\n",
    "\n",
    "The application will trigger the verification email as part of the set up process.\n",
    "\n",
    "For this to work you need to configure your realm in Keycloak to:\n",
    "* send emails via an SMTP host\n",
    "* require email verfication\n",
    "\n",
    "(Don't forget to change Alice's email address)"
   ]
  },
  {
   "cell_type": "code",
   "execution_count": null,
   "id": "5df3f20a-c0b2-4ef8-b1e1-0de68f44ae35",
   "metadata": {},
   "outputs": [],
   "source": [
    "response = requests.post(f'{APP_BASE_URL}/api/organizations/{bob_org_id}/users',\n",
    "    headers=\n",
    "    {\n",
    "        \"Authorization\": f\"Bearer {bob_tokens['access_token']}\"\n",
    "    },\n",
    "    json={\n",
    "        \"displayName\": \"Alice Example\",\n",
    "        \"emailAddress\": \"alice@example.com\"\n",
    "    }\n",
    ")\n",
    "print(response.status_code)\n",
    "print(response.text)\n",
    "alice_user_id = response.text"
   ]
  },
  {
   "cell_type": "markdown",
   "id": "29b2a3b5-447e-468e-a2cf-0e4d7e0f1624",
   "metadata": {
    "tags": []
   },
   "source": [
    "## Alice logs into Bob's organisation"
   ]
  },
  {
   "cell_type": "code",
   "execution_count": null,
   "id": "24029e99-65fa-458d-8ee6-e36836041503",
   "metadata": {},
   "outputs": [],
   "source": [
    "alice_tokens = oid_client.token('alice@example.com', 'password-is-set-via-keycloak-email')\n",
    "pp.pprint(alice_tokens)"
   ]
  },
  {
   "cell_type": "markdown",
   "id": "c1003172-fc4c-4aaa-8569-68b1644486bc",
   "metadata": {},
   "source": [
    "# Admin deletes user and discards encryption key"
   ]
  },
  {
   "cell_type": "markdown",
   "id": "df67a5c6-97ef-41a2-a18e-6000d9d2b0b4",
   "metadata": {},
   "source": [
    "After this call you can go back up and check that replays still work and that Bob's information no longer appears anywhere in the API or event log. \n",
    "\n",
    "Note that the access token will still be valid until it expires. You can turn on (very costly) token validation on every request if necessary."
   ]
  },
  {
   "cell_type": "code",
   "execution_count": null,
   "id": "72620195-6ad7-4ec9-89d2-e6d8f290b7bf",
   "metadata": {},
   "outputs": [],
   "source": [
    "response = requests.post(f'{APP_BASE_URL}/api/users/{bob_user_id}/forget',\n",
    "    headers=\n",
    "    {\n",
    "        'Authorization': f\"Bearer {admin_tokens['access_token']}\"\n",
    "    },\n",
    "    json={\n",
    "      'requestReason': 'GDPR request received'\n",
    "    }                  \n",
    ")\n",
    "print(response)"
   ]
  }
 ],
 "metadata": {
  "kernelspec": {
   "display_name": "Python 3 (ipykernel)",
   "language": "python",
   "name": "python3"
  },
  "language_info": {
   "codemirror_mode": {
    "name": "ipython",
    "version": 3
   },
   "file_extension": ".py",
   "mimetype": "text/x-python",
   "name": "python",
   "nbconvert_exporter": "python",
   "pygments_lexer": "ipython3",
   "version": "3.9.7"
  }
 },
 "nbformat": 4,
 "nbformat_minor": 5
}