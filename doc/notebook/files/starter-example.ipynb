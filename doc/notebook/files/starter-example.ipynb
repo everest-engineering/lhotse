{
 "cells": [
  {
   "cell_type": "markdown",
   "id": "edecc220-7167-448a-9531-ef9d5e32f38c",
   "metadata": {},
   "source": [
    "# Set up"
   ]
  },
  {
   "cell_type": "code",
   "execution_count": 1,
   "id": "5f3f1219-5dfc-4d2b-8b47-9b6955cc7fda",
   "metadata": {},
   "outputs": [],
   "source": [
    "import io\n",
    "import pprint\n",
    "import requests\n",
    "import json\n",
    "from keycloak import KeycloakAdmin\n",
    "from keycloak import KeycloakOpenID\n",
    "from IPython.display import Image\n",
    "\n",
    "APP_BASE_URL='http://localhost:8080'\n",
    "APP_ADMIN_EMAIL='admin@everest.engineering'\n",
    "APP_ADMIN_PASSWORD='ac0n3x72'\n",
    "\n",
    "MONITORING_PASSWORD='ac0n3x72'\n",
    "\n",
    "KEYCLOAK_BASE_URL='http://localhost:8180'\n",
    "KEYCLOAK_ADMIN_EMAIL='admin@everest.engineering'\n",
    "KEYCLOAK_ADMIN_PASSWORD='ac0n3x72'\n",
    "\n",
    "pp = pprint.PrettyPrinter()\n",
    "\n",
    "default_client = KeycloakOpenID(\n",
    "    server_url=f\"{KEYCLOAK_BASE_URL}\",\n",
    "    realm_name='default',\n",
    "    client_id='default-client',\n",
    "    verify=False)\n",
    "\n",
    "monitoring_client = KeycloakOpenID(\n",
    "    server_url=f\"{KEYCLOAK_BASE_URL}\",\n",
    "    realm_name='default',\n",
    "    client_id='monitoring',\n",
    "    client_secret_key=MONITORING_PASSWORD,\n",
    "    verify=False)"
   ]
  },
  {
   "cell_type": "markdown",
   "id": "c02a6620-669c-45d7-a2d9-4ae89c910e94",
   "metadata": {},
   "source": [
    "# User uploads photos"
   ]
  },
  {
   "cell_type": "markdown",
   "id": "658f87d4-359f-4f1c-8de3-a6edd49695e7",
   "metadata": {},
   "source": [
    "## Simulated user self registration for Bob"
   ]
  },
  {
   "cell_type": "code",
   "execution_count": 5,
   "id": "62c1ab0f-d773-4589-b64e-10a6601b6cbb",
   "metadata": {},
   "outputs": [],
   "source": [
    "keycloak_admin = KeycloakAdmin(\n",
    "    server_url=f\"{KEYCLOAK_BASE_URL}/\",\n",
    "    username=KEYCLOAK_ADMIN_EMAIL,\n",
    "    password=KEYCLOAK_ADMIN_PASSWORD,\n",
    "    realm_name='default',\n",
    "    user_realm_name='master',\n",
    "    verify=False)"
   ]
  },
  {
   "cell_type": "code",
   "execution_count": 8,
   "id": "056efc1f-ad4f-48c2-b1f6-826d8b6af86c",
   "metadata": {},
   "outputs": [
    {
     "name": "stdout",
     "output_type": "stream",
     "text": [
      "'e0949e63-038c-4d7d-aaa1-89d7e243e610'\n"
     ]
    }
   ],
   "source": [
    "bob_user_id = keycloak_admin.create_user(\n",
    "    {\n",
    "        \"username\": \"bob@example.com\",\n",
    "        \"email\": \"bob@example.com\",        \n",
    "        \"enabled\": True,\n",
    "        \"attributes\": {\n",
    "            \"displayName\": \"Bob Example\" \n",
    "        },\n",
    "        \"credentials\": [{\"value\": \"password-here\", \"type\": \"password\"}]\n",
    "    }\n",
    ")\n",
    "\n",
    "pp.pprint(bob_user_id)"
   ]
  },
  {
   "cell_type": "markdown",
   "id": "a2368ff0-e16d-40f9-b7da-8affde40366a",
   "metadata": {},
   "source": [
    "## Bob logs in"
   ]
  },
  {
   "cell_type": "code",
   "execution_count": 9,
   "id": "1bf0ad4f-dda8-4604-87cb-eae2e3233860",
   "metadata": {},
   "outputs": [
    {
     "name": "stdout",
     "output_type": "stream",
     "text": [
      "{'access_token': 'eyJhbGciOiJSUzI1NiIsInR5cCIgOiAiSldUIiwia2lkIiA6ICJ3UFljRmtyY1ZocGlwMDVQS2h5eFVBTm9sUHFfRzVaNmVONEQ0M3JycXE0In0.eyJleHAiOjE2NTg4MTgyNDcsImlhdCI6MTY1ODgxNzk0NywianRpIjoiYWUwOGVlMmItNjU3NS00NzhhLWJjYzUtMGQ0ZWE3ZjJlODJiIiwiaXNzIjoiaHR0cDovL2xvY2FsaG9zdDo4MTgwL3JlYWxtcy9kZWZhdWx0Iiwic3ViIjoiZTA5NDllNjMtMDM4Yy00ZDdkLWFhYTEtODlkN2UyNDNlNjEwIiwidHlwIjoiQmVhcmVyIiwiYXpwIjoiZGVmYXVsdC1jbGllbnQiLCJzZXNzaW9uX3N0YXRlIjoiODVkZGJhYmYtNTlmOC00OTc0LWFjNzAtYmVmNDNkZDgwNzA1IiwiYWxsb3dlZC1vcmlnaW5zIjpbImh0dHA6Ly9sb2NhbGhvc3Q6ODA4MCJdLCJyZWFsbV9hY2Nlc3MiOnsicm9sZXMiOlsiUkVHSVNURVJFRF9VU0VSIl19LCJzY29wZSI6ImRlZmF1bHRfc2NvcGUgcHJvZmlsZSBlbWFpbCIsInNpZCI6Ijg1ZGRiYWJmLTU5ZjgtNDk3NC1hYzcwLWJlZjQzZGQ4MDcwNSIsImVtYWlsX3ZlcmlmaWVkIjpmYWxzZSwiZGlzcGxheU5hbWUiOiJCb2IgRXhhbXBsZSIsImdyb3VwcyI6WyIvZGVmYXVsdF9ncm91cCJdLCJwcmVmZXJyZWRfdXNlcm5hbWUiOiJib2JAZXhhbXBsZS5jb20iLCJlbWFpbCI6ImJvYkBleGFtcGxlLmNvbSJ9.AM6w9l3wt6vkVHhRqa83lgNUn0TRLfrqdfXbWb1bCN8BZoppx2Jl8AgC2yVOzjxEEnxlSL7O7gf7_EgeBM2EoDKegfkrzDvx0QSAYvAKREwk4M3XW6IEGzEcoDc5n66jUJ9KuWSJqNZ6-mjCs5DvwwaYFLS9n5jOfCa5xLXDmJaP26UOXaI0D8Nd7WUuoqzoswkTv7xM6rNp0G2fcBpmItFdeMpQgnSepI0p8CLFnefqVPL51j3vPlf7KEC54CK-uU3kkaUskQjXGA3pcdPylyd5f7TzVONKEhC_jJoejw1kSRglVLNpgdMCuE5yYA_yda2ipszEp93ES6Pi4zfyQA',\n",
      " 'expires_in': 300,\n",
      " 'not-before-policy': 0,\n",
      " 'refresh_expires_in': 1800,\n",
      " 'refresh_token': 'eyJhbGciOiJIUzI1NiIsInR5cCIgOiAiSldUIiwia2lkIiA6ICI5NGQ1ZWEwNC1iNzJhLTQ1MDQtYTg1ZC02YTcwOWUwZmZhMDEifQ.eyJleHAiOjE2NTg4MTk3NDcsImlhdCI6MTY1ODgxNzk0NywianRpIjoiMWIyZWY3ZWEtZGM3Ni00MmZhLThhYjktZmMwN2QyOGU5MDI3IiwiaXNzIjoiaHR0cDovL2xvY2FsaG9zdDo4MTgwL3JlYWxtcy9kZWZhdWx0IiwiYXVkIjoiaHR0cDovL2xvY2FsaG9zdDo4MTgwL3JlYWxtcy9kZWZhdWx0Iiwic3ViIjoiZTA5NDllNjMtMDM4Yy00ZDdkLWFhYTEtODlkN2UyNDNlNjEwIiwidHlwIjoiUmVmcmVzaCIsImF6cCI6ImRlZmF1bHQtY2xpZW50Iiwic2Vzc2lvbl9zdGF0ZSI6Ijg1ZGRiYWJmLTU5ZjgtNDk3NC1hYzcwLWJlZjQzZGQ4MDcwNSIsInNjb3BlIjoiZGVmYXVsdF9zY29wZSBwcm9maWxlIGVtYWlsIiwic2lkIjoiODVkZGJhYmYtNTlmOC00OTc0LWFjNzAtYmVmNDNkZDgwNzA1In0._B4Z6peYcoavbHarI76gEs4tWuZtB4TKQl5UJ7EMGFE',\n",
      " 'scope': 'default_scope profile email',\n",
      " 'session_state': '85ddbabf-59f8-4974-ac70-bef43dd80705',\n",
      " 'token_type': 'Bearer'}\n"
     ]
    }
   ],
   "source": [
    "bob_tokens = default_client.token('bob@example.com', 'password-here')\n",
    "pp.pprint(bob_tokens)"
   ]
  },
  {
   "cell_type": "markdown",
   "id": "6d6f908f-c335-4fa3-a30f-1592e7727504",
   "metadata": {},
   "source": [
    "## Bob uploads some photos"
   ]
  },
  {
   "cell_type": "code",
   "execution_count": 12,
   "id": "717db18f-46c3-4425-8a0d-76022b7b3c3f",
   "metadata": {},
   "outputs": [
    {
     "name": "stdout",
     "output_type": "stream",
     "text": [
      "201\n"
     ]
    }
   ],
   "source": [
    "with open('test_photo_1.png', 'rb') as image:\n",
    "    response = requests.post(f'{APP_BASE_URL}/api/photos',\n",
    "        headers=\n",
    "        {\n",
    "            \"Authorization\": f\"Bearer {bob_tokens['access_token']}\"\n",
    "        },\n",
    "        files= \n",
    "        {\n",
    "            'file': image\n",
    "        }\n",
    "    )\n",
    "    print(response.status_code)"
   ]
  },
  {
   "cell_type": "code",
   "execution_count": 13,
   "id": "42f52fe5-4f63-4d0c-825c-5782cdc69494",
   "metadata": {},
   "outputs": [
    {
     "name": "stdout",
     "output_type": "stream",
     "text": [
      "201\n"
     ]
    }
   ],
   "source": [
    "with open('test_photo_2.png', 'rb') as image:\n",
    "    response = requests.post(f'{APP_BASE_URL}/api/photos',\n",
    "        headers=\n",
    "        {\n",
    "            \"Authorization\": f\"Bearer {bob_tokens['access_token']}\"\n",
    "        },\n",
    "        files= \n",
    "        {\n",
    "            'file': image\n",
    "        }\n",
    "    )\n",
    "    print(response.status_code)"
   ]
  },
  {
   "cell_type": "markdown",
   "id": "e0f36133-ec80-467f-b923-fd188a7a2849",
   "metadata": {},
   "source": [
    "## Application admin login"
   ]
  },
  {
   "cell_type": "code",
   "execution_count": 3,
   "id": "87ec4184-d6db-43e8-9bf0-73cf4b0a859d",
   "metadata": {},
   "outputs": [
    {
     "ename": "KeycloakAuthenticationError",
     "evalue": "401: b'{\"error\":\"invalid_grant\",\"error_description\":\"Invalid user credentials\"}'",
     "output_type": "error",
     "traceback": [
      "\u001b[0;31m---------------------------------------------------------------------------\u001b[0m",
      "\u001b[0;31mKeycloakAuthenticationError\u001b[0m               Traceback (most recent call last)",
      "Input \u001b[0;32mIn [3]\u001b[0m, in \u001b[0;36m<cell line: 1>\u001b[0;34m()\u001b[0m\n\u001b[0;32m----> 1\u001b[0m admin_tokens \u001b[38;5;241m=\u001b[39m \u001b[43mdefault_client\u001b[49m\u001b[38;5;241;43m.\u001b[39;49m\u001b[43mtoken\u001b[49m\u001b[43m(\u001b[49m\u001b[43mAPP_ADMIN_EMAIL\u001b[49m\u001b[43m,\u001b[49m\u001b[43m \u001b[49m\u001b[43mAPP_ADMIN_PASSWORD\u001b[49m\u001b[43m)\u001b[49m\n\u001b[1;32m      2\u001b[0m pp\u001b[38;5;241m.\u001b[39mpprint(admin_tokens)\n",
      "File \u001b[0;32m/opt/conda/lib/python3.9/site-packages/keycloak/keycloak_openid.py:203\u001b[0m, in \u001b[0;36mKeycloakOpenID.token\u001b[0;34m(self, username, password, grant_type, code, redirect_uri, totp, **extra)\u001b[0m\n\u001b[1;32m    200\u001b[0m payload \u001b[38;5;241m=\u001b[39m \u001b[38;5;28mself\u001b[39m\u001b[38;5;241m.\u001b[39m_add_secret_key(payload)\n\u001b[1;32m    201\u001b[0m data_raw \u001b[38;5;241m=\u001b[39m \u001b[38;5;28mself\u001b[39m\u001b[38;5;241m.\u001b[39mconnection\u001b[38;5;241m.\u001b[39mraw_post(URL_TOKEN\u001b[38;5;241m.\u001b[39mformat(\u001b[38;5;241m*\u001b[39m\u001b[38;5;241m*\u001b[39mparams_path),\n\u001b[1;32m    202\u001b[0m                                     data\u001b[38;5;241m=\u001b[39mpayload)\n\u001b[0;32m--> 203\u001b[0m \u001b[38;5;28;01mreturn\u001b[39;00m \u001b[43mraise_error_from_response\u001b[49m\u001b[43m(\u001b[49m\u001b[43mdata_raw\u001b[49m\u001b[43m,\u001b[49m\u001b[43m \u001b[49m\u001b[43mKeycloakGetError\u001b[49m\u001b[43m)\u001b[49m\n",
      "File \u001b[0;32m/opt/conda/lib/python3.9/site-packages/keycloak/exceptions.py:106\u001b[0m, in \u001b[0;36mraise_error_from_response\u001b[0;34m(response, error, expected_codes, skip_exists)\u001b[0m\n\u001b[1;32m    103\u001b[0m     \u001b[38;5;28;01mif\u001b[39;00m response\u001b[38;5;241m.\u001b[39mstatus_code \u001b[38;5;241m==\u001b[39m \u001b[38;5;241m401\u001b[39m:\n\u001b[1;32m    104\u001b[0m         error \u001b[38;5;241m=\u001b[39m KeycloakAuthenticationError\n\u001b[0;32m--> 106\u001b[0m \u001b[38;5;28;01mraise\u001b[39;00m error(error_message\u001b[38;5;241m=\u001b[39mmessage,\n\u001b[1;32m    107\u001b[0m             response_code\u001b[38;5;241m=\u001b[39mresponse\u001b[38;5;241m.\u001b[39mstatus_code,\n\u001b[1;32m    108\u001b[0m             response_body\u001b[38;5;241m=\u001b[39mresponse\u001b[38;5;241m.\u001b[39mcontent)\n",
      "\u001b[0;31mKeycloakAuthenticationError\u001b[0m: 401: b'{\"error\":\"invalid_grant\",\"error_description\":\"Invalid user credentials\"}'"
     ]
    }
   ],
   "source": [
    "admin_tokens = default_client.token(APP_ADMIN_EMAIL, APP_ADMIN_PASSWORD)\n",
    "pp.pprint(admin_tokens)"
   ]
  },
  {
   "cell_type": "code",
   "execution_count": null,
   "id": "1858b48f-d3da-4368-a8a8-4bcfe3136ad0",
   "metadata": {},
   "outputs": [],
   "source": [
    "admin_userinfo = default_client.userinfo(admin_tokens['access_token'])\n",
    "pp.pprint(admin_userinfo)"
   ]
  },
  {
   "cell_type": "markdown",
   "id": "259a8d3a-8429-4299-a282-4832f5ef2e76",
   "metadata": {},
   "source": [
    "# System info"
   ]
  },
  {
   "cell_type": "markdown",
   "id": "c776c33f-a9e9-4c63-b12c-a79f94ae9c66",
   "metadata": {},
   "source": [
    "## OID configuration"
   ]
  },
  {
   "cell_type": "code",
   "execution_count": null,
   "id": "a25a9359-9114-4d2d-969c-050e23fdc830",
   "metadata": {},
   "outputs": [],
   "source": [
    "pp.pprint(default_client.well_know())"
   ]
  },
  {
   "cell_type": "markdown",
   "id": "6de81717-ec92-4bfd-a7bf-684f5f08af51",
   "metadata": {},
   "source": [
    "## Application version"
   ]
  },
  {
   "cell_type": "code",
   "execution_count": null,
   "id": "d2e9ca05-a83f-4632-8cd7-a79b5f667e12",
   "metadata": {},
   "outputs": [],
   "source": [
    "print(requests.get(f'{APP_BASE_URL}/api/version').text)"
   ]
  },
  {
   "cell_type": "markdown",
   "id": "df293bb3-9bf2-434e-8250-10d2f11d677b",
   "metadata": {},
   "source": [
    "## Monitoring"
   ]
  },
  {
   "cell_type": "code",
   "execution_count": null,
   "id": "a0ebce9b-72d0-4d91-af01-5719e4f267d5",
   "metadata": {},
   "outputs": [],
   "source": [
    "monitoring_tokens = monitoring_client.token(grant_type='client_credentials')\n",
    "pp.pprint(monitoring_tokens)"
   ]
  },
  {
   "cell_type": "code",
   "execution_count": null,
   "id": "c4c56b8f-5600-4f04-9a7d-8d5cf8768da4",
   "metadata": {},
   "outputs": [],
   "source": [
    "public_health = requests.get(f'{APP_BASE_URL}/actuator/health')\n",
    "pp.pprint(public_health.json())"
   ]
  },
  {
   "cell_type": "code",
   "execution_count": null,
   "id": "420afc7e-af32-46e0-b3e0-cc81cd405843",
   "metadata": {},
   "outputs": [],
   "source": [
    "private_health = requests.get(\n",
    "    f'{APP_BASE_URL}/actuator/health', \n",
    "    headers=\n",
    "    {\n",
    "        \"Authorization\": f\"Bearer {monitoring_tokens['access_token']}\"\n",
    "    }\n",
    ")\n",
    "print(private_health.status_code)\n",
    "pp.pprint(private_health.json())"
   ]
  },
  {
   "cell_type": "markdown",
   "id": "2c26a372-c5db-4228-af7d-b30d3e79ef9d",
   "metadata": {},
   "source": [
    "## Available system metrics"
   ]
  },
  {
   "cell_type": "markdown",
   "id": "671d3e38-d23c-4b9d-90a2-fe007e5cb7d7",
   "metadata": {},
   "source": [
    "Most metrics won't show up until later due to lazy loading."
   ]
  },
  {
   "cell_type": "code",
   "execution_count": null,
   "id": "0ff1dc7d-4f91-4a6a-ac87-e0641a476850",
   "metadata": {},
   "outputs": [],
   "source": [
    "metrics = requests.get(\n",
    "    f'{APP_BASE_URL}/actuator/metrics', \n",
    "    headers=\n",
    "    {\n",
    "        \"Authorization\": f\"Bearer {monitoring_tokens['access_token']}\"\n",
    "    }\n",
    ")\n",
    "print(metrics.status_code)\n",
    "pp.pprint(metrics.json()['names'])"
   ]
  },
  {
   "cell_type": "markdown",
   "id": "857b06a2-4077-40c7-a9e4-5961fe0db981",
   "metadata": {},
   "source": [
    "## Detailed metrics"
   ]
  },
  {
   "cell_type": "code",
   "execution_count": null,
   "id": "cdacd8eb-6c9d-43a4-9851-86a50fcf7359",
   "metadata": {},
   "outputs": [],
   "source": [
    "request_metrics = requests.get(\n",
    "    f'{APP_BASE_URL}/actuator/metrics/process.cpu.usage', \n",
    "    headers=\n",
    "    {\n",
    "        \"Authorization\": f\"Bearer {monitoring_tokens['access_token']}\"\n",
    "    }\n",
    ")\n",
    "pp.pprint(request_metrics.json())"
   ]
  },
  {
   "cell_type": "markdown",
   "id": "b0b2e76f-bc12-4136-8b46-eaeed3a727ec",
   "metadata": {},
   "source": [
    "## Prometheus metrics"
   ]
  },
  {
   "cell_type": "markdown",
   "id": "c29dcfc9-cb32-45ac-8c0c-4b149f518bc9",
   "metadata": {},
   "source": [
    "Most metrics won't show up until later due ot lazy loading."
   ]
  },
  {
   "cell_type": "code",
   "execution_count": null,
   "id": "a301bc2b-a326-4be7-bfb1-577909e95055",
   "metadata": {},
   "outputs": [],
   "source": [
    "prometheus_metrics = requests.get(\n",
    "    f'{APP_BASE_URL}/actuator/prometheus', \n",
    "    headers=\n",
    "    {\n",
    "        \"Authorization\": f\"Bearer {monitoring_tokens['access_token']}\"\n",
    "    }\n",
    ")\n",
    "print(prometheus_metrics.status_code)\n",
    "pp.pprint(prometheus_metrics.text)"
   ]
  },
  {
   "cell_type": "markdown",
   "id": "aa7b1096-57fb-47ae-9b03-7e1b4ff30a4e",
   "metadata": {},
   "source": [
    "## Replay status"
   ]
  },
  {
   "cell_type": "code",
   "execution_count": null,
   "id": "268e925f-d027-46e5-af01-f18b5c36fcb7",
   "metadata": {},
   "outputs": [],
   "source": [
    "replay_status = requests.get(\n",
    "    f'{APP_BASE_URL}/actuator/replay', \n",
    "    headers=\n",
    "    {\n",
    "        \"Authorization\": f\"Bearer {admin_tokens['access_token']}\"\n",
    "    }\n",
    ")\n",
    "print(replay_status.status_code)\n",
    "pp.pprint(replay_status.json())"
   ]
  },
  {
   "cell_type": "markdown",
   "id": "70aad4be-5225-47e8-b385-1ece0fa0bb47",
   "metadata": {},
   "source": [
    "## Trigger replay"
   ]
  },
  {
   "cell_type": "markdown",
   "id": "aa97429b-63bc-4703-ba93-f2f450793d0d",
   "metadata": {},
   "source": [
    "Replays when multiple nodes are involved require you to first shut down the tracking event processors so that ownership is released. The node that receives the request to replay will be the one handling it.\n",
    "\n",
    "This can be done via the dashboard or via `axonserver-cli`."
   ]
  },
  {
   "cell_type": "code",
   "execution_count": null,
   "id": "22914956-8e42-4c51-a5d8-4b4c42463588",
   "metadata": {},
   "outputs": [],
   "source": [
    "response = requests.post(\n",
    "    f'{APP_BASE_URL}/actuator/replay', \n",
    "    headers=\n",
    "    {\n",
    "        \"Authorization\": f\"Bearer {admin_tokens['access_token']}\"\n",
    "    },\n",
    "    json={}\n",
    ")\n",
    "# You are expecting a 204 NO-CONTENT response here\n",
    "print(response.status_code)"
   ]
  },
  {
   "cell_type": "markdown",
   "id": "9ce0696b-88c3-480b-b2ca-014122675f6b",
   "metadata": {
    "tags": []
   },
   "source": [
    "# Self registration scenario"
   ]
  },
  {
   "cell_type": "markdown",
   "id": "eec78d47-d4f5-41e8-af56-4fe6c3cc30af",
   "metadata": {},
   "source": [
    "## Simulated user self registration for Bob"
   ]
  },
  {
   "cell_type": "code",
   "execution_count": null,
   "id": "e4f39ed8-385f-415c-a8ff-63719a66e591",
   "metadata": {},
   "outputs": [],
   "source": [
    "keycloak_admin = KeycloakAdmin(\n",
    "    server_url=f\"{KEYCLOAK_BASE_URL}/\",\n",
    "    username=KEYCLOAK_ADMIN_EMAIL,\n",
    "    password=KEYCLOAK_ADMIN_PASSWORD,\n",
    "    realm_name='default',\n",
    "    user_realm_name='master',\n",
    "    verify=False)"
   ]
  },
  {
   "cell_type": "code",
   "execution_count": null,
   "id": "4aefdcb9-9da9-431a-912b-240e9849c8a3",
   "metadata": {},
   "outputs": [],
   "source": [
    "bob_user_id = keycloak_admin.create_user(\n",
    "    {\n",
    "        \"username\": \"bob@example.com\",\n",
    "        \"email\": \"bob@example.com\",        \n",
    "        \"enabled\": True,\n",
    "        \"attributes\": {\n",
    "            \"displayName\": \"Bob Example\" \n",
    "        },\n",
    "        \"credentials\": [{\"value\": \"password-here\", \"type\": \"password\"}]\n",
    "    }\n",
    ")\n",
    "\n",
    "realm_roles = keycloak_admin.get_realm_roles()\n",
    "\n",
    "for role in realm_roles:\n",
    "    if role['name'] in ['ORG_ADMIN', 'ORG_USER'] :\n",
    "        keycloak_admin.assign_realm_roles(user_id=bob_user_id, roles=[role])\n",
    "\n",
    "pp.pprint(bob_user_id)"
   ]
  },
  {
   "cell_type": "markdown",
   "id": "1430f1ff-bc6a-4f48-aac5-dcaf5f0c6f01",
   "metadata": {},
   "source": [
    "## Bob's user and organisation does not exist until first use"
   ]
  },
  {
   "cell_type": "code",
   "execution_count": null,
   "id": "87c3654c-c192-4346-a5f2-4141b9774689",
   "metadata": {},
   "outputs": [],
   "source": [
    "response = requests.get(f'{APP_BASE_URL}/api/users',\n",
    "    headers=\n",
    "    {\n",
    "        \"Authorization\": f\"Bearer {admin_tokens['access_token']}\"\n",
    "    }\n",
    ")\n",
    "pp.pprint(response.json())"
   ]
  },
  {
   "cell_type": "code",
   "execution_count": null,
   "id": "cfb3721c-d23e-4bc8-b0f8-b2d4cc863052",
   "metadata": {},
   "outputs": [],
   "source": [
    "response = requests.get(f'{APP_BASE_URL}/admin/organizations',\n",
    "    headers=\n",
    "    {\n",
    "        \"Authorization\": f\"Bearer {admin_tokens['access_token']}\"\n",
    "    }\n",
    ")\n",
    "pp.pprint(response.json())"
   ]
  },
  {
   "cell_type": "markdown",
   "id": "90f38654-7fb1-4c2e-8ba2-514d72765314",
   "metadata": {},
   "source": [
    "## Bob logs in"
   ]
  },
  {
   "cell_type": "code",
   "execution_count": null,
   "id": "03b0b115-49cb-4b4a-a5b9-ad7c11cb9f54",
   "metadata": {
    "tags": []
   },
   "outputs": [],
   "source": [
    "bob_tokens = default_client.token('bob@example.com', 'password-here')\n",
    "pp.pprint(bob_tokens)"
   ]
  },
  {
   "cell_type": "markdown",
   "id": "575eef8f-68d7-4497-805b-504deed288b7",
   "metadata": {},
   "source": [
    "## Bob retrieves profile details"
   ]
  },
  {
   "cell_type": "markdown",
   "id": "1d3f113d-71dc-4186-a3c8-bd3a956b772d",
   "metadata": {},
   "source": [
    "After this call you can go back up and check - the user and their default organisation should now be available"
   ]
  },
  {
   "cell_type": "code",
   "execution_count": null,
   "id": "765025bd-b53c-4577-a05b-a99493752638",
   "metadata": {},
   "outputs": [],
   "source": [
    "response = requests.get(f'{APP_BASE_URL}/api/user',\n",
    "    headers=\n",
    "    {\n",
    "        \"Authorization\": f\"Bearer {bob_tokens['access_token']}\"\n",
    "    }\n",
    ").json()\n",
    "pp.pprint(response)\n",
    "bob_org_id = response['organizationId']"
   ]
  },
  {
   "cell_type": "markdown",
   "id": "23adb556-163f-4af2-82ac-ca5bb6ffa4b9",
   "metadata": {},
   "source": [
    "## Bob uploads profile photo"
   ]
  },
  {
   "cell_type": "code",
   "execution_count": null,
   "id": "e48e806b-677b-424b-ab77-26a6583f9e93",
   "metadata": {},
   "outputs": [],
   "source": [
    "with open('profile.jpg', 'rb') as image:\n",
    "    response = requests.post(f'{APP_BASE_URL}/api/user/profile-photo',\n",
    "        headers=\n",
    "        {\n",
    "            \"Authorization\": f\"Bearer {bob_tokens['access_token']}\"\n",
    "        },\n",
    "        files= \n",
    "        {\n",
    "            'file': image\n",
    "        }\n",
    "    )\n",
    "    print(response.status_code)"
   ]
  },
  {
   "cell_type": "markdown",
   "id": "e7c856c3-8021-4680-815b-a7d4e71e9118",
   "metadata": {},
   "source": [
    "## Bob downloads profile photo"
   ]
  },
  {
   "cell_type": "code",
   "execution_count": null,
   "id": "2b1ef0ec-9fcf-4218-98b3-6bad12876b16",
   "metadata": {},
   "outputs": [],
   "source": [
    "response = requests.get(f'{APP_BASE_URL}/api/user/profile-photo/thumbnail?width=1024&height=512',\n",
    "    headers=\n",
    "    {\n",
    "        \"Authorization\": f\"Bearer {bob_tokens['access_token']}\"\n",
    "    }\n",
    ")\n",
    "print(response.status_code)\n",
    "Image(data=response.content)"
   ]
  },
  {
   "cell_type": "markdown",
   "id": "00cb26a9-0fc8-4413-a084-b725adee554b",
   "metadata": {},
   "source": [
    "# Bob does stuff"
   ]
  },
  {
   "cell_type": "markdown",
   "id": "ca43287e-6a49-4380-b794-41c625ea92f9",
   "metadata": {},
   "source": [
    "## Bob lists users on his organisation"
   ]
  },
  {
   "cell_type": "code",
   "execution_count": null,
   "id": "d28188ec-b6bc-44a2-8065-56c8f63d9c2e",
   "metadata": {},
   "outputs": [],
   "source": [
    "response = requests.get(f'{APP_BASE_URL}/api/organizations/{bob_org_id}/users',\n",
    "    headers=\n",
    "    {\n",
    "        \"Authorization\": f\"Bearer {bob_tokens['access_token']}\"\n",
    "    }\n",
    ")\n",
    "print(response.status_code)\n",
    "pp.pprint(response.json())"
   ]
  },
  {
   "cell_type": "markdown",
   "id": "bb2905c1-ddee-4e1f-a0c7-60288daa8486",
   "metadata": {
    "tags": []
   },
   "source": [
    "## Bob retrieves information about the organisation"
   ]
  },
  {
   "cell_type": "code",
   "execution_count": null,
   "id": "c28670d5-2172-42db-9ae9-2d0b5306acc0",
   "metadata": {},
   "outputs": [],
   "source": [
    "response = requests.get(f'{APP_BASE_URL}/api/organizations/{bob_org_id}',\n",
    "    headers=\n",
    "    {\n",
    "        \"Authorization\": f\"Bearer {bob_tokens['access_token']}\"\n",
    "    }\n",
    ")\n",
    "print(response.status_code)\n",
    "pp.pprint(response.json())"
   ]
  },
  {
   "cell_type": "markdown",
   "id": "b460a785-e561-4e4b-8c43-c99c8deae8af",
   "metadata": {},
   "source": [
    "## Bob starts listening for organisation updates"
   ]
  },
  {
   "cell_type": "markdown",
   "id": "da216c67-2dd8-4f05-aea5-84bb510cdba6",
   "metadata": {},
   "source": [
    "Content negotiation allows you to subscribe to streaming updates. \n",
    "\n",
    "This isn't easily demonstrated in this notebook. Run the following to generate the `curl` command that lets you subscribe to streaming updates:"
   ]
  },
  {
   "cell_type": "code",
   "execution_count": null,
   "id": "18656b14-9f08-438e-a3f9-f7dcd4789898",
   "metadata": {},
   "outputs": [],
   "source": [
    "print(f\"curl --verbose -H \\\"Accept: application/x-ndjson\\\" -H \\\"Authorization: Bearer {bob_tokens['access_token']}\\\" {APP_BASE_URL}/api/organizations/{bob_org_id}\")"
   ]
  },
  {
   "cell_type": "markdown",
   "id": "dff51d95-e37b-4f62-9519-a2618363ed66",
   "metadata": {},
   "source": [
    "## Bob changes the organisation's website"
   ]
  },
  {
   "cell_type": "code",
   "execution_count": null,
   "id": "4cb4f4de-f6f8-45c0-8552-26082939b457",
   "metadata": {},
   "outputs": [],
   "source": [
    "response = requests.put(f'{APP_BASE_URL}/api/organizations/{bob_org_id}',\n",
    "    headers=\n",
    "    {\n",
    "        \"Authorization\": f\"Bearer {bob_tokens['access_token']}\"\n",
    "    },\n",
    "    json = \n",
    "    {\n",
    "        'websiteUrl': 'https://my.nice.example.com/1'\n",
    "    }\n",
    ")\n",
    "print(response.status_code)"
   ]
  },
  {
   "cell_type": "markdown",
   "id": "b7465a4a-2cee-4960-b7d8-c97005bf87e6",
   "metadata": {},
   "source": [
    "## Bob creates Alice, a new user for the organisation"
   ]
  },
  {
   "cell_type": "markdown",
   "id": "3a836c2c-7d31-45d7-a03c-16b62e4cf2c7",
   "metadata": {},
   "source": [
    "This relies on the realm being configured to require email verification for the new user to be able to log in.\n",
    "\n",
    "The application will trigger the verification email as part of the set up process.\n",
    "\n",
    "For this to work you need to configure your realm in Keycloak to:\n",
    "* send emails via an SMTP host\n",
    "* require email verfication\n",
    "\n",
    "(Don't forget to change Alice's email address)"
   ]
  },
  {
   "cell_type": "code",
   "execution_count": null,
   "id": "5df3f20a-c0b2-4ef8-b1e1-0de68f44ae35",
   "metadata": {},
   "outputs": [],
   "source": [
    "response = requests.post(f'{APP_BASE_URL}/api/organizations/{bob_org_id}/users',\n",
    "    headers=\n",
    "    {\n",
    "        \"Authorization\": f\"Bearer {bob_tokens['access_token']}\"\n",
    "    },\n",
    "    json={\n",
    "        \"displayName\": \"Alice Example\",\n",
    "        \"emailAddress\": \"alice@example.com\"\n",
    "    }\n",
    ")\n",
    "print(response.status_code)\n",
    "print(response.text)\n",
    "alice_user_id = response.text"
   ]
  },
  {
   "cell_type": "markdown",
   "id": "29b2a3b5-447e-468e-a2cf-0e4d7e0f1624",
   "metadata": {
    "tags": []
   },
   "source": [
    "## Alice logs into Bob's organisation"
   ]
  },
  {
   "cell_type": "code",
   "execution_count": null,
   "id": "24029e99-65fa-458d-8ee6-e36836041503",
   "metadata": {},
   "outputs": [],
   "source": [
    "alice_tokens = default_client.token('alice@example.com', 'password-is-set-via-keycloak-email')\n",
    "pp.pprint(alice_tokens)"
   ]
  },
  {
   "cell_type": "markdown",
   "id": "c1003172-fc4c-4aaa-8569-68b1644486bc",
   "metadata": {},
   "source": [
    "# Admin deletes user and discards encryption key"
   ]
  },
  {
   "cell_type": "markdown",
   "id": "df67a5c6-97ef-41a2-a18e-6000d9d2b0b4",
   "metadata": {},
   "source": [
    "After this call you can go back up and check that replays still work and that Bob's information no longer appears anywhere in the API or event log. \n",
    "\n",
    "Note that the access token will still be valid until it expires. You can turn on (very costly) token validation on every request if necessary."
   ]
  },
  {
   "cell_type": "code",
   "execution_count": null,
   "id": "72620195-6ad7-4ec9-89d2-e6d8f290b7bf",
   "metadata": {},
   "outputs": [],
   "source": [
    "response = requests.post(f'{APP_BASE_URL}/api/users/{bob_user_id}/forget',\n",
    "    headers=\n",
    "    {\n",
    "        'Authorization': f\"Bearer {admin_tokens['access_token']}\"\n",
    "    },\n",
    "    json={\n",
    "      'requestReason': 'GDPR request received'\n",
    "    }                  \n",
    ")\n",
    "print(response)"
   ]
  }
 ],
 "metadata": {
  "kernelspec": {
   "display_name": "Python 3 (ipykernel)",
   "language": "python",
   "name": "python3"
  },
  "language_info": {
   "codemirror_mode": {
    "name": "ipython",
    "version": 3
   },
   "file_extension": ".py",
   "mimetype": "text/x-python",
   "name": "python",
   "nbconvert_exporter": "python",
   "pygments_lexer": "ipython3",
   "version": "3.9.12"
  }
 },
 "nbformat": 4,
 "nbformat_minor": 5
}
